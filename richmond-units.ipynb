{
 "cells": [
  {
   "cell_type": "code",
   "execution_count": 1,
   "id": "15dd1720-d737-48a1-bdf1-1ee9fa724dbf",
   "metadata": {},
   "outputs": [],
   "source": [
    "import time\n",
    "import pandas as pd\n",
    "from census import Census\n",
    "import altair as alt\n",
    "import numpy as np\n",
    "\n",
    "# Census API access\n",
    "api_key = \"639f2aedf7c17b164527591258cda00b25249b4b\"\n",
    "c = Census(key=api_key)"
   ]
  },
  {
   "cell_type": "code",
   "execution_count": 2,
   "id": "6e83d195-9769-4479-8ee1-22778aec722c",
   "metadata": {},
   "outputs": [],
   "source": [
    "# Occupancy: Table B25002\n",
    "occupy_variables = {\n",
    "    'B25002_001E': 'total',\n",
    "    'B25002_001M': 'total_moe',\n",
    "    'B25002_002E': 'occupied',\n",
    "    'B25002_002M': 'occupied_moe',\n",
    "    'B25002_003E': 'vacant',\n",
    "    'B25002_003M': 'vacant_moe'\n",
    "}\n",
    "occupy_columns_out = [\n",
    "    'total', 'total_moe',\n",
    "    'pct_occupied', 'pct_occupied_moe',\n",
    "    'pct_vacant', 'pct_vacant_moe'\n",
    "]"
   ]
  },
  {
   "cell_type": "code",
   "execution_count": 3,
   "id": "18c4129f-c086-4e61-8ab1-bb17ccce97be",
   "metadata": {},
   "outputs": [],
   "source": [
    "def combine_occupancy(in_df):\n",
    "    '''\n",
    "    Outputs: simplified breakdown with MOEs\n",
    "    '''\n",
    "    df = in_df.copy()\n",
    "    \n",
    "    for group in ['occupied', 'vacant']:\n",
    "        # Calculate the proportion for this group\n",
    "        df[f'pct_{group}'] = df[group] / df['total']\n",
    "    \n",
    "        # Calculate the MOE for this proportion\n",
    "        df[f'pct_{group}_moe'] = (df[f'{group}_moe']**2 - df[f'pct_{group}']**2 * df['total_moe']**2)**0.5 / df['total']\n",
    "\n",
    "        #NaN-out any too-low absolute n\n",
    "        df.loc[df['total'] < 25, f'pct_{group}'] = float('NaN')\n",
    "        df.loc[df['total'] < 25, f'pct_{group}_moe'] = float('NaN')\n",
    "        \n",
    "        #NaN-out any too-low moe\n",
    "        df[f'pct_{group}_moe_ratio'] = df[f'pct_{group}_moe']/df[f'pct_{group}']\n",
    "        df.loc[df[f'pct_{group}_moe_ratio'] > .4, f'pct_{group}'] = float('NaN')\n",
    "        df.loc[df[f'pct_{group}_moe_ratio'] > .4, f'pct_{group}_moe'] = float('NaN')\n",
    "    \n",
    "    return df"
   ]
  },
  {
   "cell_type": "code",
   "execution_count": 4,
   "id": "39caad5b-c167-4296-8523-1f552e7ab86c",
   "metadata": {},
   "outputs": [],
   "source": [
    "def combine_tracts(in_df):\n",
    "    '''\n",
    "\n",
    "    Outputs:\n",
    "    A modified version of in_df with census tracts combined\n",
    "    '''\n",
    "    \n",
    "    # Start by making a copy of in_df, so we don't destroy the original data.\n",
    "    # df is also a nice short name we can use throughout this function\n",
    "    df_copy = in_df.copy()\n",
    "    df = pd.DataFrame(columns=occupy_variables.values())\n",
    "\n",
    "    ### CLEAN UNUSUAL MOES\n",
    "    df_copy = df_copy.replace(-555555555.0, 0)\n",
    "\n",
    "    for c in occupy_variables.values():\n",
    "        if \"moe\" not in c:\n",
    "            # sum the totals\n",
    "            df.at[0, c] = df_copy[c].sum()\n",
    "        else:\n",
    "            # sum of squares the moes\n",
    "            df.at[0, c] = np.sqrt((df_copy[c]**2).sum())\n",
    "\n",
    "    df_out = combine_occupancy(df)\n",
    "    \n",
    "    return df_out"
   ]
  },
  {
   "cell_type": "code",
   "execution_count": 5,
   "id": "49155839-e11e-463a-a848-b38a22baf7ec",
   "metadata": {},
   "outputs": [],
   "source": [
    "def get_occupy_precombo(year_in, place_num):\n",
    "    # for getting mode for census tracts before they are combined\n",
    "    df = pd.DataFrame(\n",
    "        c.acs5.get(\n",
    "            list(occupy_variables.keys()),\n",
    "            {'for': place_num, 'in': 'state:06 county:013'},\n",
    "            year=year_in\n",
    "        )\n",
    "    )\n",
    "    df = df.rename(columns=occupy_variables)\n",
    "    df = df.drop(columns=[\"state\", \"county\", \"tract\"])\n",
    "    \n",
    "    return df"
   ]
  },
  {
   "cell_type": "code",
   "execution_count": 6,
   "id": "0f868cf2-d3da-46b9-af03-d41dacf56193",
   "metadata": {},
   "outputs": [],
   "source": [
    "def get_city_df(year_in):\n",
    "    # City\n",
    "    df = pd.DataFrame(\n",
    "        c.acs5.get(\n",
    "            list(occupy_variables.keys()),\n",
    "            {'for': 'place:60620', 'in': 'state:06'},\n",
    "            year=year_in\n",
    "        )\n",
    "    )\n",
    "    df = df.rename(columns=occupy_variables)\n",
    "    df_out = combine_occupancy(df)\n",
    "\n",
    "    return df_out"
   ]
  },
  {
   "cell_type": "code",
   "execution_count": 7,
   "id": "579d9027-449c-46dd-a1b8-1b9f85e3b237",
   "metadata": {},
   "outputs": [],
   "source": [
    "# for 5yr ACS 2014 and 2019\n",
    "# Get ACS Table B08141 for select tracts around the BART station\n",
    "# county:013\n",
    "# city: 60620\n",
    "c_tracts = 'tract:375000, 376000, 377000, 374000, 381000'\n",
    "\n",
    "df_tracts_2014 = get_occupy_precombo(2014, c_tracts)\n",
    "df_tracts_2019 = get_occupy_precombo(2019, c_tracts)"
   ]
  },
  {
   "cell_type": "code",
   "execution_count": 20,
   "id": "d6744bbb-c57d-4cf3-b654-f31997bccad3",
   "metadata": {},
   "outputs": [
    {
     "data": {
      "text/html": [
       "<div>\n",
       "<style scoped>\n",
       "    .dataframe tbody tr th:only-of-type {\n",
       "        vertical-align: middle;\n",
       "    }\n",
       "\n",
       "    .dataframe tbody tr th {\n",
       "        vertical-align: top;\n",
       "    }\n",
       "\n",
       "    .dataframe thead th {\n",
       "        text-align: right;\n",
       "    }\n",
       "</style>\n",
       "<table border=\"1\" class=\"dataframe\">\n",
       "  <thead>\n",
       "    <tr style=\"text-align: right;\">\n",
       "      <th></th>\n",
       "      <th>total</th>\n",
       "      <th>total_moe</th>\n",
       "      <th>occupied</th>\n",
       "      <th>occupied_moe</th>\n",
       "      <th>vacant</th>\n",
       "      <th>vacant_moe</th>\n",
       "    </tr>\n",
       "  </thead>\n",
       "  <tbody>\n",
       "    <tr>\n",
       "      <th>0</th>\n",
       "      <td>1291.0</td>\n",
       "      <td>41.0</td>\n",
       "      <td>1231.0</td>\n",
       "      <td>59.0</td>\n",
       "      <td>60.0</td>\n",
       "      <td>51.0</td>\n",
       "    </tr>\n",
       "    <tr>\n",
       "      <th>1</th>\n",
       "      <td>2026.0</td>\n",
       "      <td>82.0</td>\n",
       "      <td>1644.0</td>\n",
       "      <td>110.0</td>\n",
       "      <td>382.0</td>\n",
       "      <td>78.0</td>\n",
       "    </tr>\n",
       "    <tr>\n",
       "      <th>2</th>\n",
       "      <td>2466.0</td>\n",
       "      <td>87.0</td>\n",
       "      <td>2265.0</td>\n",
       "      <td>141.0</td>\n",
       "      <td>201.0</td>\n",
       "      <td>122.0</td>\n",
       "    </tr>\n",
       "    <tr>\n",
       "      <th>3</th>\n",
       "      <td>1841.0</td>\n",
       "      <td>74.0</td>\n",
       "      <td>1771.0</td>\n",
       "      <td>90.0</td>\n",
       "      <td>70.0</td>\n",
       "      <td>63.0</td>\n",
       "    </tr>\n",
       "    <tr>\n",
       "      <th>4</th>\n",
       "      <td>2182.0</td>\n",
       "      <td>64.0</td>\n",
       "      <td>2001.0</td>\n",
       "      <td>105.0</td>\n",
       "      <td>181.0</td>\n",
       "      <td>94.0</td>\n",
       "    </tr>\n",
       "  </tbody>\n",
       "</table>\n",
       "</div>"
      ],
      "text/plain": [
       "    total  total_moe  occupied  occupied_moe  vacant  vacant_moe\n",
       "0  1291.0       41.0    1231.0          59.0    60.0        51.0\n",
       "1  2026.0       82.0    1644.0         110.0   382.0        78.0\n",
       "2  2466.0       87.0    2265.0         141.0   201.0       122.0\n",
       "3  1841.0       74.0    1771.0          90.0    70.0        63.0\n",
       "4  2182.0       64.0    2001.0         105.0   181.0        94.0"
      ]
     },
     "execution_count": 20,
     "metadata": {},
     "output_type": "execute_result"
    }
   ],
   "source": [
    "df_tracts_2019"
   ]
  },
  {
   "cell_type": "code",
   "execution_count": 8,
   "id": "b24d134b-c911-4e15-a86c-d386f8e33bab",
   "metadata": {},
   "outputs": [],
   "source": [
    "df_comb_2014 = combine_tracts(df_tracts_2014)\n",
    "df_tracts_out_2014 = df_comb_2014[occupy_columns_out]\n",
    "df_tracts_out_2014.insert(0, \"year\", 2014)\n",
    "df_comb_2019 = combine_tracts(df_tracts_2019)\n",
    "df_tracts_out_2019 = df_comb_2019[occupy_columns_out]\n",
    "df_tracts_out_2019.insert(0, \"year\", 2019)"
   ]
  },
  {
   "cell_type": "code",
   "execution_count": 9,
   "id": "d466b61f-2ad3-4a25-bb65-9d2949d9a701",
   "metadata": {},
   "outputs": [],
   "source": [
    "# for 5yr ACS 2017 and 2022\n",
    "df_tracts_2017 = get_occupy_precombo(2017, c_tracts)\n",
    "df_tracts_2022 = get_occupy_precombo(2022, c_tracts)"
   ]
  },
  {
   "cell_type": "code",
   "execution_count": 10,
   "id": "559a0d45-c329-4d05-b050-617d26d26944",
   "metadata": {},
   "outputs": [],
   "source": [
    "df_comb_2017 = combine_tracts(df_tracts_2017)\n",
    "df_tracts_out_2017 = df_comb_2017[occupy_columns_out]\n",
    "df_tracts_out_2017.insert(0, \"year\", 2017)\n",
    "df_comb_2022 = combine_tracts(df_tracts_2022)\n",
    "df_tracts_out_2022 = df_comb_2022[occupy_columns_out]\n",
    "df_tracts_out_2022.insert(0, \"year\", 2022)"
   ]
  },
  {
   "cell_type": "code",
   "execution_count": 11,
   "id": "e4dd3a74-efa1-4c45-bc49-60949a15cb94",
   "metadata": {},
   "outputs": [
    {
     "data": {
      "text/html": [
       "<div>\n",
       "<style scoped>\n",
       "    .dataframe tbody tr th:only-of-type {\n",
       "        vertical-align: middle;\n",
       "    }\n",
       "\n",
       "    .dataframe tbody tr th {\n",
       "        vertical-align: top;\n",
       "    }\n",
       "\n",
       "    .dataframe thead th {\n",
       "        text-align: right;\n",
       "    }\n",
       "</style>\n",
       "<table border=\"1\" class=\"dataframe\">\n",
       "  <thead>\n",
       "    <tr style=\"text-align: right;\">\n",
       "      <th></th>\n",
       "      <th>year</th>\n",
       "      <th>total</th>\n",
       "      <th>total_moe</th>\n",
       "      <th>pct_occupied</th>\n",
       "      <th>pct_occupied_moe</th>\n",
       "      <th>pct_vacant</th>\n",
       "      <th>pct_vacant_moe</th>\n",
       "    </tr>\n",
       "  </thead>\n",
       "  <tbody>\n",
       "    <tr>\n",
       "      <th>0</th>\n",
       "      <td>2017</td>\n",
       "      <td>9692.0</td>\n",
       "      <td>135.321839</td>\n",
       "      <td>0.899608</td>\n",
       "      <td>0.022033</td>\n",
       "      <td>0.100392</td>\n",
       "      <td>0.022091</td>\n",
       "    </tr>\n",
       "  </tbody>\n",
       "</table>\n",
       "</div>"
      ],
      "text/plain": [
       "   year   total   total_moe pct_occupied pct_occupied_moe pct_vacant  \\\n",
       "0  2017  9692.0  135.321839     0.899608         0.022033   0.100392   \n",
       "\n",
       "  pct_vacant_moe  \n",
       "0       0.022091  "
      ]
     },
     "execution_count": 11,
     "metadata": {},
     "output_type": "execute_result"
    }
   ],
   "source": [
    "df_tracts_out_2017"
   ]
  },
  {
   "cell_type": "code",
   "execution_count": 12,
   "id": "d9c51db3-ea16-43f3-8dd3-53d538996273",
   "metadata": {},
   "outputs": [],
   "source": [
    "# for 5yr ACS 2014 and 2019\n",
    "# Get ACS Table B08141 in Richmond City\n",
    "df_city_2014 = get_city_df(2014)\n",
    "df_city_2019 = get_city_df(2019)"
   ]
  },
  {
   "cell_type": "code",
   "execution_count": 13,
   "id": "b7d3efc8-8939-4b67-8323-83070df1f823",
   "metadata": {},
   "outputs": [],
   "source": [
    "df_city_out_2014 = df_city_2014[occupy_columns_out]\n",
    "df_city_out_2014.insert(0, \"year\", 2014)\n",
    "df_city_out_2019 = df_city_2019[occupy_columns_out]\n",
    "df_city_out_2019.insert(0, \"year\", 2019)"
   ]
  },
  {
   "cell_type": "code",
   "execution_count": 14,
   "id": "7862a272-0eeb-4e5a-ad88-ad34111b260b",
   "metadata": {},
   "outputs": [],
   "source": [
    "# for 5yr ACS 2017 and 2022\n",
    "# Get ACS Table B08141 in Richmond City\n",
    "df_city_2017 = get_city_df(2017)\n",
    "df_city_2022 = get_city_df(2022)"
   ]
  },
  {
   "cell_type": "code",
   "execution_count": 15,
   "id": "e60a5b97-1d77-47fe-8c69-73e78a99e762",
   "metadata": {},
   "outputs": [],
   "source": [
    "df_city_out_2017 = df_city_2017[occupy_columns_out]\n",
    "df_city_out_2017.insert(0, \"year\", 2017)\n",
    "df_city_out_2022 = df_city_2022[occupy_columns_out]\n",
    "df_city_out_2022.insert(0, \"year\", 2022)"
   ]
  },
  {
   "cell_type": "code",
   "execution_count": 16,
   "id": "1037b62e-92bc-4235-bc45-9e06566f9e1c",
   "metadata": {},
   "outputs": [
    {
     "data": {
      "text/html": [
       "<div>\n",
       "<style scoped>\n",
       "    .dataframe tbody tr th:only-of-type {\n",
       "        vertical-align: middle;\n",
       "    }\n",
       "\n",
       "    .dataframe tbody tr th {\n",
       "        vertical-align: top;\n",
       "    }\n",
       "\n",
       "    .dataframe thead th {\n",
       "        text-align: right;\n",
       "    }\n",
       "</style>\n",
       "<table border=\"1\" class=\"dataframe\">\n",
       "  <thead>\n",
       "    <tr style=\"text-align: right;\">\n",
       "      <th></th>\n",
       "      <th>year</th>\n",
       "      <th>total</th>\n",
       "      <th>total_moe</th>\n",
       "      <th>pct_occupied</th>\n",
       "      <th>pct_occupied_moe</th>\n",
       "      <th>pct_vacant</th>\n",
       "      <th>pct_vacant_moe</th>\n",
       "    </tr>\n",
       "  </thead>\n",
       "  <tbody>\n",
       "    <tr>\n",
       "      <th>0</th>\n",
       "      <td>2014</td>\n",
       "      <td>39772.0</td>\n",
       "      <td>736.0</td>\n",
       "      <td>0.915544</td>\n",
       "      <td>0.007751</td>\n",
       "      <td>0.084456</td>\n",
       "      <td>0.009706</td>\n",
       "    </tr>\n",
       "  </tbody>\n",
       "</table>\n",
       "</div>"
      ],
      "text/plain": [
       "   year    total  total_moe  pct_occupied  pct_occupied_moe  pct_vacant  \\\n",
       "0  2014  39772.0      736.0      0.915544          0.007751    0.084456   \n",
       "\n",
       "   pct_vacant_moe  \n",
       "0        0.009706  "
      ]
     },
     "execution_count": 16,
     "metadata": {},
     "output_type": "execute_result"
    }
   ],
   "source": [
    "df_city_out_2014"
   ]
  },
  {
   "cell_type": "code",
   "execution_count": 17,
   "id": "50cf8198-602d-4927-914d-19ac750de288",
   "metadata": {},
   "outputs": [],
   "source": [
    "#export settings, for a combined csv\n",
    "df_tracts_out = pd.concat([df_tracts_out_2017, df_tracts_out_2022])\n",
    "df_city_out = pd.concat([df_city_out_2017, df_city_out_2022])"
   ]
  },
  {
   "cell_type": "code",
   "execution_count": 18,
   "id": "e39734c4-ca17-4995-9dee-c187ce2c0cee",
   "metadata": {},
   "outputs": [
    {
     "data": {
      "text/html": [
       "<div>\n",
       "<style scoped>\n",
       "    .dataframe tbody tr th:only-of-type {\n",
       "        vertical-align: middle;\n",
       "    }\n",
       "\n",
       "    .dataframe tbody tr th {\n",
       "        vertical-align: top;\n",
       "    }\n",
       "\n",
       "    .dataframe thead th {\n",
       "        text-align: right;\n",
       "    }\n",
       "</style>\n",
       "<table border=\"1\" class=\"dataframe\">\n",
       "  <thead>\n",
       "    <tr style=\"text-align: right;\">\n",
       "      <th></th>\n",
       "      <th>year</th>\n",
       "      <th>total</th>\n",
       "      <th>total_moe</th>\n",
       "      <th>pct_occupied</th>\n",
       "      <th>pct_occupied_moe</th>\n",
       "      <th>pct_vacant</th>\n",
       "      <th>pct_vacant_moe</th>\n",
       "    </tr>\n",
       "  </thead>\n",
       "  <tbody>\n",
       "    <tr>\n",
       "      <th>0</th>\n",
       "      <td>2017</td>\n",
       "      <td>9692.0</td>\n",
       "      <td>135.321839</td>\n",
       "      <td>0.899608</td>\n",
       "      <td>0.022033</td>\n",
       "      <td>0.100392</td>\n",
       "      <td>0.022091</td>\n",
       "    </tr>\n",
       "    <tr>\n",
       "      <th>0</th>\n",
       "      <td>2022</td>\n",
       "      <td>10266.0</td>\n",
       "      <td>484.949482</td>\n",
       "      <td>0.945256</td>\n",
       "      <td>0.021722</td>\n",
       "      <td>0.054744</td>\n",
       "      <td>0.016365</td>\n",
       "    </tr>\n",
       "  </tbody>\n",
       "</table>\n",
       "</div>"
      ],
      "text/plain": [
       "   year    total   total_moe pct_occupied pct_occupied_moe pct_vacant  \\\n",
       "0  2017   9692.0  135.321839     0.899608         0.022033   0.100392   \n",
       "0  2022  10266.0  484.949482     0.945256         0.021722   0.054744   \n",
       "\n",
       "  pct_vacant_moe  \n",
       "0       0.022091  \n",
       "0       0.016365  "
      ]
     },
     "execution_count": 18,
     "metadata": {},
     "output_type": "execute_result"
    }
   ],
   "source": [
    "df_tracts_out"
   ]
  },
  {
   "cell_type": "code",
   "execution_count": 19,
   "id": "ec90126a-f2d4-49ef-b0c1-df1e56dd6e7e",
   "metadata": {},
   "outputs": [
    {
     "data": {
      "text/html": [
       "<div>\n",
       "<style scoped>\n",
       "    .dataframe tbody tr th:only-of-type {\n",
       "        vertical-align: middle;\n",
       "    }\n",
       "\n",
       "    .dataframe tbody tr th {\n",
       "        vertical-align: top;\n",
       "    }\n",
       "\n",
       "    .dataframe thead th {\n",
       "        text-align: right;\n",
       "    }\n",
       "</style>\n",
       "<table border=\"1\" class=\"dataframe\">\n",
       "  <thead>\n",
       "    <tr style=\"text-align: right;\">\n",
       "      <th></th>\n",
       "      <th>year</th>\n",
       "      <th>total</th>\n",
       "      <th>total_moe</th>\n",
       "      <th>pct_occupied</th>\n",
       "      <th>pct_occupied_moe</th>\n",
       "      <th>pct_vacant</th>\n",
       "      <th>pct_vacant_moe</th>\n",
       "    </tr>\n",
       "  </thead>\n",
       "  <tbody>\n",
       "    <tr>\n",
       "      <th>0</th>\n",
       "      <td>2017</td>\n",
       "      <td>39534.0</td>\n",
       "      <td>751.0</td>\n",
       "      <td>0.928720</td>\n",
       "      <td>NaN</td>\n",
       "      <td>0.071280</td>\n",
       "      <td>0.011556</td>\n",
       "    </tr>\n",
       "    <tr>\n",
       "      <th>0</th>\n",
       "      <td>2022</td>\n",
       "      <td>41566.0</td>\n",
       "      <td>931.0</td>\n",
       "      <td>0.953135</td>\n",
       "      <td>0.008492</td>\n",
       "      <td>0.046865</td>\n",
       "      <td>0.007651</td>\n",
       "    </tr>\n",
       "  </tbody>\n",
       "</table>\n",
       "</div>"
      ],
      "text/plain": [
       "   year    total  total_moe  pct_occupied  pct_occupied_moe  pct_vacant  \\\n",
       "0  2017  39534.0      751.0      0.928720               NaN    0.071280   \n",
       "0  2022  41566.0      931.0      0.953135          0.008492    0.046865   \n",
       "\n",
       "   pct_vacant_moe  \n",
       "0        0.011556  \n",
       "0        0.007651  "
      ]
     },
     "execution_count": 19,
     "metadata": {},
     "output_type": "execute_result"
    }
   ],
   "source": [
    "df_city_out"
   ]
  },
  {
   "cell_type": "code",
   "execution_count": null,
   "id": "1e19ef3d-3544-4224-9893-30fd221881fc",
   "metadata": {},
   "outputs": [],
   "source": []
  }
 ],
 "metadata": {
  "kernelspec": {
   "display_name": "Python 3 (ipykernel)",
   "language": "python",
   "name": "python3"
  },
  "language_info": {
   "codemirror_mode": {
    "name": "ipython",
    "version": 3
   },
   "file_extension": ".py",
   "mimetype": "text/x-python",
   "name": "python",
   "nbconvert_exporter": "python",
   "pygments_lexer": "ipython3",
   "version": "3.12.2"
  }
 },
 "nbformat": 4,
 "nbformat_minor": 5
}
