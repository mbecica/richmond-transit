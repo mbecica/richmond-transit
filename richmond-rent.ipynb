{
 "cells": [
  {
   "cell_type": "code",
   "execution_count": 21,
   "id": "15dd1720-d737-48a1-bdf1-1ee9fa724dbf",
   "metadata": {},
   "outputs": [],
   "source": [
    "import time\n",
    "import pandas as pd\n",
    "from census import Census\n",
    "import altair as alt\n",
    "import numpy as np\n",
    "\n",
    "# Census API access\n",
    "api_key = \"639f2aedf7c17b164527591258cda00b25249b4b\"\n",
    "c = Census(key=api_key)"
   ]
  },
  {
   "cell_type": "code",
   "execution_count": 43,
   "id": "6e83d195-9769-4479-8ee1-22778aec722c",
   "metadata": {},
   "outputs": [],
   "source": [
    "# Rent: Table B25058\n",
    "rent_variables = {\n",
    "    'B25058_001E': 'median_rent',\n",
    "    'B25058_001M': 'median_rent_moe'\n",
    "}\n",
    "rent_columns_out = [\n",
    "    'median_rent', 'median_rent_moe'\n",
    "]\n",
    "renter_units = {\n",
    "    \"2014_tracts\": 5456.00,\n",
    "    \"2019_tracts\": 5482.00,\n",
    "    \"2014_city\": 18414.02,\n",
    "    \"2019_city\": 18606.01\n",
    "}"
   ]
  },
  {
   "cell_type": "code",
   "execution_count": 49,
   "id": "42c84bf4-157d-4915-aa2e-97fd7c22a7c7",
   "metadata": {},
   "outputs": [],
   "source": [
    "def adjust_inflation(in_df, year):\n",
    "    ## Adjust median rent for inflation\n",
    "    inflation_rate = {\n",
    "        2014: 1.32,\n",
    "        2017: 1.27,\n",
    "        2019: 1.23,\n",
    "        2022: 1.10\n",
    "    }\n",
    "    df = pd.DataFrame()\n",
    "\n",
    "    for c in rent_variables.values():\n",
    "        df[c] = in_df[c] * inflation_rate[year]\n",
    "\n",
    "    return df"
   ]
  },
  {
   "cell_type": "code",
   "execution_count": 78,
   "id": "39caad5b-c167-4296-8523-1f552e7ab86c",
   "metadata": {},
   "outputs": [],
   "source": [
    "def combine_tracts(in_df):\n",
    "    '''\n",
    "\n",
    "    Outputs:\n",
    "    A modified version of in_df with census tracts combined\n",
    "    '''\n",
    "    \n",
    "    # Start by making a copy of in_df, so we don't destroy the original data.\n",
    "    # df is also a nice short name we can use throughout this function\n",
    "    df_copy = in_df.copy()\n",
    "    df = pd.DataFrame()\n",
    "\n",
    "    ### CLEAN UNUSUAL MOES\n",
    "    df_copy = df_copy.replace(-555555555.0, 0)\n",
    "\n",
    "    for c in rent_variables.values():\n",
    "        if \"moe\" not in c:\n",
    "            # sum the totals: aggregate rent\n",
    "            df.at[0, f'{c}_agg'] = df_copy[c].sum()\n",
    "        else:\n",
    "            # sum of squares the moes\n",
    "            df.at[0, f'{c}_agg'] = np.sqrt((df_copy[c]**2).sum())\n",
    "    \n",
    "    return df"
   ]
  },
  {
   "cell_type": "code",
   "execution_count": 97,
   "id": "49155839-e11e-463a-a848-b38a22baf7ec",
   "metadata": {},
   "outputs": [],
   "source": [
    "def get_rent_precombo(year_in, place_num):\n",
    "    # for getting mode for census tracts before they are combined\n",
    "    df = pd.DataFrame(\n",
    "        c.acs5.get(\n",
    "            list(rent_variables.keys()),\n",
    "            {'for': place_num, 'in': 'state:06 county:013'},\n",
    "            year=year_in\n",
    "        )\n",
    "    )\n",
    "    df = df.rename(columns=rent_variables)\n",
    "    df = df.drop(columns=[\"state\", \"county\", \"tract\"])\n",
    "    \n",
    "    df_adjusted = adjust_inflation(df, year_in)\n",
    "    \n",
    "    return df_adjusted"
   ]
  },
  {
   "cell_type": "code",
   "execution_count": 83,
   "id": "0f868cf2-d3da-46b9-af03-d41dacf56193",
   "metadata": {},
   "outputs": [],
   "source": [
    "def get_city_df(year_in):\n",
    "    # City\n",
    "    df = pd.DataFrame(\n",
    "        c.acs5.get(\n",
    "            list(rent_variables.keys()),\n",
    "            {'for': 'place:60620', 'in': 'state:06'},\n",
    "            year=year_in\n",
    "        )\n",
    "    )\n",
    "    df = df.rename(columns=rent_variables)\n",
    "\n",
    "    df_adjusted = adjust_inflation(df, year_in)\n",
    "    \n",
    "    return df_adjusted"
   ]
  },
  {
   "cell_type": "code",
   "execution_count": 98,
   "id": "579d9027-449c-46dd-a1b8-1b9f85e3b237",
   "metadata": {},
   "outputs": [],
   "source": [
    "# for 5yr ACS 2014 and 2019\n",
    "# Get ACS Table B08141 for select tracts around the BART station\n",
    "# county:013\n",
    "# city: 60620\n",
    "c_tracts = 'tract:375000, 376000, 377000, 374000, 381000'\n",
    "\n",
    "df_tracts_2014 = get_rent_precombo(2014, c_tracts)\n",
    "df_tracts_2019 = get_rent_precombo(2019, c_tracts)"
   ]
  },
  {
   "cell_type": "code",
   "execution_count": 79,
   "id": "b24d134b-c911-4e15-a86c-d386f8e33bab",
   "metadata": {},
   "outputs": [],
   "source": [
    "df_comb_2014 = combine_tracts(df_tracts_2014)\n",
    "# df_tracts_out_2014 = df_comb_2014[rent_columns_out]\n",
    "# df_tracts_out_2014.insert(0, \"year\", 2014)\n",
    "# df_comb_2019 = combine_tracts(df_tracts_2019)\n",
    "# df_tracts_out_2019 = df_comb_2019[rent_columns_out]\n",
    "# df_tracts_out_2019.insert(0, \"year\", 2019)"
   ]
  },
  {
   "cell_type": "code",
   "execution_count": 99,
   "id": "10d45346-2b2c-4a2c-b39c-8b758879e75c",
   "metadata": {},
   "outputs": [
    {
     "data": {
      "text/html": [
       "<div>\n",
       "<style scoped>\n",
       "    .dataframe tbody tr th:only-of-type {\n",
       "        vertical-align: middle;\n",
       "    }\n",
       "\n",
       "    .dataframe tbody tr th {\n",
       "        vertical-align: top;\n",
       "    }\n",
       "\n",
       "    .dataframe thead th {\n",
       "        text-align: right;\n",
       "    }\n",
       "</style>\n",
       "<table border=\"1\" class=\"dataframe\">\n",
       "  <thead>\n",
       "    <tr style=\"text-align: right;\">\n",
       "      <th></th>\n",
       "      <th>median_rent</th>\n",
       "      <th>median_rent_moe</th>\n",
       "    </tr>\n",
       "  </thead>\n",
       "  <tbody>\n",
       "    <tr>\n",
       "      <th>0</th>\n",
       "      <td>1686.33</td>\n",
       "      <td>134.07</td>\n",
       "    </tr>\n",
       "    <tr>\n",
       "      <th>1</th>\n",
       "      <td>1412.04</td>\n",
       "      <td>140.22</td>\n",
       "    </tr>\n",
       "    <tr>\n",
       "      <th>2</th>\n",
       "      <td>1368.99</td>\n",
       "      <td>188.19</td>\n",
       "    </tr>\n",
       "    <tr>\n",
       "      <th>3</th>\n",
       "      <td>1452.63</td>\n",
       "      <td>295.20</td>\n",
       "    </tr>\n",
       "    <tr>\n",
       "      <th>4</th>\n",
       "      <td>1392.36</td>\n",
       "      <td>129.15</td>\n",
       "    </tr>\n",
       "  </tbody>\n",
       "</table>\n",
       "</div>"
      ],
      "text/plain": [
       "   median_rent  median_rent_moe\n",
       "0      1686.33           134.07\n",
       "1      1412.04           140.22\n",
       "2      1368.99           188.19\n",
       "3      1452.63           295.20\n",
       "4      1392.36           129.15"
      ]
     },
     "execution_count": 99,
     "metadata": {},
     "output_type": "execute_result"
    }
   ],
   "source": [
    "df_tracts_2019"
   ]
  },
  {
   "cell_type": "code",
   "execution_count": 100,
   "id": "d466b61f-2ad3-4a25-bb65-9d2949d9a701",
   "metadata": {},
   "outputs": [],
   "source": [
    "# for 5yr ACS 2017 and 2022\n",
    "df_tracts_2017 = get_rent_precombo(2017, c_tracts)\n",
    "df_tracts_2022 = get_rent_precombo(2022, c_tracts)"
   ]
  },
  {
   "cell_type": "code",
   "execution_count": 102,
   "id": "4ced2999-8389-4ee4-94ae-f892d0329b54",
   "metadata": {},
   "outputs": [
    {
     "data": {
      "text/html": [
       "<div>\n",
       "<style scoped>\n",
       "    .dataframe tbody tr th:only-of-type {\n",
       "        vertical-align: middle;\n",
       "    }\n",
       "\n",
       "    .dataframe tbody tr th {\n",
       "        vertical-align: top;\n",
       "    }\n",
       "\n",
       "    .dataframe thead th {\n",
       "        text-align: right;\n",
       "    }\n",
       "</style>\n",
       "<table border=\"1\" class=\"dataframe\">\n",
       "  <thead>\n",
       "    <tr style=\"text-align: right;\">\n",
       "      <th></th>\n",
       "      <th>median_rent</th>\n",
       "      <th>median_rent_moe</th>\n",
       "    </tr>\n",
       "  </thead>\n",
       "  <tbody>\n",
       "    <tr>\n",
       "      <th>0</th>\n",
       "      <td>1527.9</td>\n",
       "      <td>231.0</td>\n",
       "    </tr>\n",
       "    <tr>\n",
       "      <th>1</th>\n",
       "      <td>1426.7</td>\n",
       "      <td>218.9</td>\n",
       "    </tr>\n",
       "    <tr>\n",
       "      <th>2</th>\n",
       "      <td>1383.8</td>\n",
       "      <td>227.7</td>\n",
       "    </tr>\n",
       "    <tr>\n",
       "      <th>3</th>\n",
       "      <td>1260.6</td>\n",
       "      <td>148.5</td>\n",
       "    </tr>\n",
       "    <tr>\n",
       "      <th>4</th>\n",
       "      <td>1301.3</td>\n",
       "      <td>211.2</td>\n",
       "    </tr>\n",
       "  </tbody>\n",
       "</table>\n",
       "</div>"
      ],
      "text/plain": [
       "   median_rent  median_rent_moe\n",
       "0       1527.9            231.0\n",
       "1       1426.7            218.9\n",
       "2       1383.8            227.7\n",
       "3       1260.6            148.5\n",
       "4       1301.3            211.2"
      ]
     },
     "execution_count": 102,
     "metadata": {},
     "output_type": "execute_result"
    }
   ],
   "source": [
    "df_tracts_2022"
   ]
  },
  {
   "cell_type": "code",
   "execution_count": 57,
   "id": "559a0d45-c329-4d05-b050-617d26d26944",
   "metadata": {},
   "outputs": [],
   "source": [
    "df_comb_2017 = combine_tracts(df_tracts_2017)\n",
    "df_tracts_out_2017 = df_comb_2017[rent_columns_out]\n",
    "df_tracts_out_2017.insert(0, \"year\", 2017)\n",
    "df_comb_2022 = combine_tracts(df_tracts_2022)\n",
    "df_tracts_out_2022 = df_comb_2022[rent_columns_out]\n",
    "df_tracts_out_2022.insert(0, \"year\", 2022)"
   ]
  },
  {
   "cell_type": "code",
   "execution_count": 54,
   "id": "e4dd3a74-efa1-4c45-bc49-60949a15cb94",
   "metadata": {},
   "outputs": [
    {
     "data": {
      "text/html": [
       "<div>\n",
       "<style scoped>\n",
       "    .dataframe tbody tr th:only-of-type {\n",
       "        vertical-align: middle;\n",
       "    }\n",
       "\n",
       "    .dataframe tbody tr th {\n",
       "        vertical-align: top;\n",
       "    }\n",
       "\n",
       "    .dataframe thead th {\n",
       "        text-align: right;\n",
       "    }\n",
       "</style>\n",
       "<table border=\"1\" class=\"dataframe\">\n",
       "  <thead>\n",
       "    <tr style=\"text-align: right;\">\n",
       "      <th></th>\n",
       "      <th>year</th>\n",
       "      <th>median_rent</th>\n",
       "      <th>median_rent_moe</th>\n",
       "    </tr>\n",
       "  </thead>\n",
       "  <tbody>\n",
       "    <tr>\n",
       "      <th>0</th>\n",
       "      <td>2014</td>\n",
       "      <td>6487.8</td>\n",
       "      <td>304.857136</td>\n",
       "    </tr>\n",
       "  </tbody>\n",
       "</table>\n",
       "</div>"
      ],
      "text/plain": [
       "   year median_rent median_rent_moe\n",
       "0  2014      6487.8      304.857136"
      ]
     },
     "execution_count": 54,
     "metadata": {},
     "output_type": "execute_result"
    }
   ],
   "source": [
    "df_tracts_out_2014"
   ]
  },
  {
   "cell_type": "code",
   "execution_count": 84,
   "id": "d9c51db3-ea16-43f3-8dd3-53d538996273",
   "metadata": {},
   "outputs": [],
   "source": [
    "# for 5yr ACS 2014 and 2019\n",
    "# Get ACS Table B08141 in Richmond City\n",
    "df_city_2014 = get_city_df(2014)\n",
    "df_city_2019 = get_city_df(2019)"
   ]
  },
  {
   "cell_type": "code",
   "execution_count": 85,
   "id": "b7d3efc8-8939-4b67-8323-83070df1f823",
   "metadata": {},
   "outputs": [],
   "source": [
    "df_city_out_2014 = df_city_2014[rent_columns_out]\n",
    "df_city_out_2014.insert(0, \"year\", 2014)\n",
    "df_city_out_2019 = df_city_2019[rent_columns_out]\n",
    "df_city_out_2019.insert(0, \"year\", 2019)"
   ]
  },
  {
   "cell_type": "code",
   "execution_count": 88,
   "id": "7862a272-0eeb-4e5a-ad88-ad34111b260b",
   "metadata": {},
   "outputs": [],
   "source": [
    "# for 5yr ACS 2017 and 2022\n",
    "# Get ACS Table B08141 in Richmond City\n",
    "df_city_2017 = get_city_df(2017)\n",
    "df_city_2022 = get_city_df(2022)"
   ]
  },
  {
   "cell_type": "code",
   "execution_count": 89,
   "id": "e60a5b97-1d77-47fe-8c69-73e78a99e762",
   "metadata": {},
   "outputs": [],
   "source": [
    "df_city_out_2017 = df_city_2017[rent_columns_out]\n",
    "df_city_out_2017.insert(0, \"year\", 2017)\n",
    "df_city_out_2022 = df_city_2022[rent_columns_out]\n",
    "df_city_out_2022.insert(0, \"year\", 2022)"
   ]
  },
  {
   "cell_type": "code",
   "execution_count": 62,
   "id": "1037b62e-92bc-4235-bc45-9e06566f9e1c",
   "metadata": {},
   "outputs": [
    {
     "data": {
      "text/html": [
       "<div>\n",
       "<style scoped>\n",
       "    .dataframe tbody tr th:only-of-type {\n",
       "        vertical-align: middle;\n",
       "    }\n",
       "\n",
       "    .dataframe tbody tr th {\n",
       "        vertical-align: top;\n",
       "    }\n",
       "\n",
       "    .dataframe thead th {\n",
       "        text-align: right;\n",
       "    }\n",
       "</style>\n",
       "<table border=\"1\" class=\"dataframe\">\n",
       "  <thead>\n",
       "    <tr style=\"text-align: right;\">\n",
       "      <th></th>\n",
       "      <th>year</th>\n",
       "      <th>median_rent</th>\n",
       "      <th>median_rent_moe</th>\n",
       "    </tr>\n",
       "  </thead>\n",
       "  <tbody>\n",
       "    <tr>\n",
       "      <th>0</th>\n",
       "      <td>2014</td>\n",
       "      <td>1450.68</td>\n",
       "      <td>34.32</td>\n",
       "    </tr>\n",
       "  </tbody>\n",
       "</table>\n",
       "</div>"
      ],
      "text/plain": [
       "   year  median_rent  median_rent_moe\n",
       "0  2014      1450.68            34.32"
      ]
     },
     "execution_count": 62,
     "metadata": {},
     "output_type": "execute_result"
    }
   ],
   "source": [
    "df_city_out_2014"
   ]
  },
  {
   "cell_type": "code",
   "execution_count": 90,
   "id": "50cf8198-602d-4927-914d-19ac750de288",
   "metadata": {},
   "outputs": [],
   "source": [
    "#export settings, for a combined csv\n",
    "#df_tracts_out = pd.concat([df_tracts_out_2017, df_tracts_out_2022])\n",
    "df_city_out = pd.concat([df_city_out_2017, df_city_out_2022])"
   ]
  },
  {
   "cell_type": "code",
   "execution_count": 64,
   "id": "e39734c4-ca17-4995-9dee-c187ce2c0cee",
   "metadata": {},
   "outputs": [
    {
     "data": {
      "text/html": [
       "<div>\n",
       "<style scoped>\n",
       "    .dataframe tbody tr th:only-of-type {\n",
       "        vertical-align: middle;\n",
       "    }\n",
       "\n",
       "    .dataframe tbody tr th {\n",
       "        vertical-align: top;\n",
       "    }\n",
       "\n",
       "    .dataframe thead th {\n",
       "        text-align: right;\n",
       "    }\n",
       "</style>\n",
       "<table border=\"1\" class=\"dataframe\">\n",
       "  <thead>\n",
       "    <tr style=\"text-align: right;\">\n",
       "      <th></th>\n",
       "      <th>year</th>\n",
       "      <th>median_rent</th>\n",
       "      <th>median_rent_moe</th>\n",
       "    </tr>\n",
       "  </thead>\n",
       "  <tbody>\n",
       "    <tr>\n",
       "      <th>0</th>\n",
       "      <td>2017</td>\n",
       "      <td>6816.09</td>\n",
       "      <td>354.991694</td>\n",
       "    </tr>\n",
       "    <tr>\n",
       "      <th>0</th>\n",
       "      <td>2022</td>\n",
       "      <td>6900.3</td>\n",
       "      <td>468.810399</td>\n",
       "    </tr>\n",
       "  </tbody>\n",
       "</table>\n",
       "</div>"
      ],
      "text/plain": [
       "   year median_rent median_rent_moe\n",
       "0  2017     6816.09      354.991694\n",
       "0  2022      6900.3      468.810399"
      ]
     },
     "execution_count": 64,
     "metadata": {},
     "output_type": "execute_result"
    }
   ],
   "source": [
    "df_tracts_out"
   ]
  },
  {
   "cell_type": "code",
   "execution_count": 91,
   "id": "ec90126a-f2d4-49ef-b0c1-df1e56dd6e7e",
   "metadata": {},
   "outputs": [
    {
     "data": {
      "text/html": [
       "<div>\n",
       "<style scoped>\n",
       "    .dataframe tbody tr th:only-of-type {\n",
       "        vertical-align: middle;\n",
       "    }\n",
       "\n",
       "    .dataframe tbody tr th {\n",
       "        vertical-align: top;\n",
       "    }\n",
       "\n",
       "    .dataframe thead th {\n",
       "        text-align: right;\n",
       "    }\n",
       "</style>\n",
       "<table border=\"1\" class=\"dataframe\">\n",
       "  <thead>\n",
       "    <tr style=\"text-align: right;\">\n",
       "      <th></th>\n",
       "      <th>year</th>\n",
       "      <th>median_rent</th>\n",
       "      <th>median_rent_moe</th>\n",
       "    </tr>\n",
       "  </thead>\n",
       "  <tbody>\n",
       "    <tr>\n",
       "      <th>0</th>\n",
       "      <td>2017</td>\n",
       "      <td>1496.06</td>\n",
       "      <td>39.37</td>\n",
       "    </tr>\n",
       "    <tr>\n",
       "      <th>0</th>\n",
       "      <td>2022</td>\n",
       "      <td>1823.80</td>\n",
       "      <td>89.10</td>\n",
       "    </tr>\n",
       "  </tbody>\n",
       "</table>\n",
       "</div>"
      ],
      "text/plain": [
       "   year  median_rent  median_rent_moe\n",
       "0  2017      1496.06            39.37\n",
       "0  2022      1823.80            89.10"
      ]
     },
     "execution_count": 91,
     "metadata": {},
     "output_type": "execute_result"
    }
   ],
   "source": [
    "df_city_out"
   ]
  },
  {
   "cell_type": "code",
   "execution_count": null,
   "id": "1e19ef3d-3544-4224-9893-30fd221881fc",
   "metadata": {},
   "outputs": [],
   "source": []
  }
 ],
 "metadata": {
  "kernelspec": {
   "display_name": "Python 3 (ipykernel)",
   "language": "python",
   "name": "python3"
  },
  "language_info": {
   "codemirror_mode": {
    "name": "ipython",
    "version": 3
   },
   "file_extension": ".py",
   "mimetype": "text/x-python",
   "name": "python",
   "nbconvert_exporter": "python",
   "pygments_lexer": "ipython3",
   "version": "3.12.2"
  }
 },
 "nbformat": 4,
 "nbformat_minor": 5
}
