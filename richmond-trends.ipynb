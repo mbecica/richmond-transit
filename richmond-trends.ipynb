{
 "cells": [
  {
   "cell_type": "code",
   "execution_count": 78,
   "id": "b6eb294e-5368-48bb-8dff-6f772fe34a1d",
   "metadata": {},
   "outputs": [],
   "source": [
    "import time\n",
    "import pandas as pd\n",
    "from census import Census\n",
    "import altair as alt\n",
    "import numpy as np\n",
    "\n",
    "# Census API access\n",
    "api_key = \"639f2aedf7c17b164527591258cda00b25249b4b\"\n",
    "c = Census(key=api_key)"
   ]
  },
  {
   "cell_type": "markdown",
   "id": "cb6a6708-2f50-41bb-a634-e86f5b4fd644",
   "metadata": {},
   "source": [
    "## Race\n",
    "What is the racial and ethnic percentages of neighborhood group vs city? Are there any census tracts with MOEs that are too high to include?"
   ]
  },
  {
   "cell_type": "code",
   "execution_count": 32,
   "id": "da3f90b9-2c7e-4729-b744-5e3e9d92be58",
   "metadata": {},
   "outputs": [],
   "source": [
    "# Define the dict of variables to pull and rename\n",
    "race_variables = {\n",
    "    'B03002_001E': 'total',\n",
    "    'B03002_001M': 'total_moe',\n",
    "    'B03002_003E': 'nh_white',\n",
    "    'B03002_003M': 'nh_white_moe',\n",
    "    'B03002_004E': 'nh_black',\n",
    "    'B03002_004M': 'nh_black_moe',\n",
    "    'B03002_005E': 'nh_native',\n",
    "    'B03002_005M': 'nh_native_moe',\n",
    "    'B03002_006E': 'nh_asian',\n",
    "    'B03002_006M': 'nh_asian_moe',\n",
    "    'B03002_007E': 'nh_pi',\n",
    "    'B03002_007M': 'nh_pi_moe',\n",
    "    'B03002_008E': 'nh_1other',\n",
    "    'B03002_008M': 'nh_1other_moe',\n",
    "    'B03002_009E': 'nh_multi',\n",
    "    'B03002_009M': 'nh_multi_moe',\n",
    "    'B03002_012E': 'hispanic',\n",
    "    'B03002_012M': 'hispanic_moe',\n",
    "}\n",
    "\n",
    "race_columns_out = [\n",
    "    'pct_nh_white', 'pct_nh_white_moe',\n",
    "    'pct_nh_black', 'pct_nh_black_moe',\n",
    "    'pct_nh_asian', 'pct_nh_asian_moe',\n",
    "    'pct_nh_other', 'pct_nh_other_moe',\n",
    "    'pct_hispanic', 'pct_hispanic_moe'\n",
    "]"
   ]
  },
  {
   "cell_type": "code",
   "execution_count": 144,
   "id": "097f0dca-f786-4708-883a-4cb0c4126f63",
   "metadata": {},
   "outputs": [],
   "source": [
    "def z_statistic(x1, x2, moe1, moe2):\n",
    "    '''\n",
    "\n",
    "    Inputs:\n",
    "    - the two values (x1, x2), and their MOEs\n",
    "\n",
    "    Output:\n",
    "    The two-sample z-value (float) of the difference between the two values\n",
    "    '''\n",
    "    # Calculate the SEs\n",
    "    se1 = moe1 / 1.645\n",
    "    se2 = moe2 / 1.645\n",
    "\n",
    "    # Return the z-value\n",
    "    return abs((x1 - x2) / (se1**2 + se2**2)**0.5)"
   ]
  },
  {
   "cell_type": "code",
   "execution_count": 91,
   "id": "06aacbf2-5d96-4a5d-aa17-8827933c944e",
   "metadata": {},
   "outputs": [],
   "source": [
    "def combine_races(in_df):\n",
    "\n",
    "    df = in_df.copy()\n",
    "    \n",
    "    ### AGGREGATE ESTIMATES\n",
    "    # Define a list of columns to combine into \"nh_other\"\n",
    "    nh_other_cols = ['nh_native', 'nh_pi', 'nh_1other', 'nh_multi']\n",
    "\n",
    "    # Calculate nh_other\n",
    "    df['nh_other'] = df[nh_other_cols].sum(axis='columns')\n",
    "\n",
    "    # Use a list comprehension to append \"_moe\" to all strings in our list\n",
    "    nh_other_moes = [f'{col}_moe' for col in nh_other_cols]\n",
    "\n",
    "    # Use this new list to calculate nh_other_moe    \n",
    "    df['nh_other_moe'] = (df[nh_other_moes]**2).sum(axis='columns')**0.5\n",
    "\n",
    "    ### CALCULATE PROPORTIONS\n",
    "    # Iterate through the racial/ethnic groups we're using\n",
    "    for group in ['nh_white', 'nh_black', 'nh_asian', 'nh_other', 'hispanic']:\n",
    "        # Calculate the proportion for this group\n",
    "        df[f'pct_{group}'] = df[group] / df['total']\n",
    "    \n",
    "        # Calculate the MOE for this proportion\n",
    "        df[f'pct_{group}_moe'] = (df[f'{group}_moe']**2 - df[f'pct_{group}']**2 * df['total_moe']**2)**0.5 / df['total']\n",
    "\n",
    "        #NaN-out any too-low absolute n\n",
    "        df.loc[df.total < 25, f'pct_{group}'] = float('NaN')\n",
    "        df.loc[df.total < 25, f'pct_{group}_moe'] = float('NaN')\n",
    "\n",
    "        #NaN-out any too-low moe\n",
    "        df[f'pct_{group}_moe_ratio'] = df[f'pct_{group}_moe']/df[f'pct_{group}']\n",
    "        df.loc[df[f'pct_{group}_moe_ratio'] > .4, f'pct_{group}'] = float('NaN')\n",
    "        df.loc[df[f'pct_{group}_moe_ratio'] > .4, f'pct_{group}_moe'] = float('NaN')\n",
    "\n",
    "    return df"
   ]
  },
  {
   "cell_type": "code",
   "execution_count": 92,
   "id": "bd269dce-785e-4197-a069-4b1167aa187f",
   "metadata": {},
   "outputs": [],
   "source": [
    "def combine_tracts(in_df):\n",
    "    '''\n",
    "    Inputs:\n",
    "    - in_df (pd.DataFrame): a DataFrame containing race/ethnicity data from Table B03002\n",
    "\n",
    "    Outputs:\n",
    "    A modified version of in_df with certain races grouped and proportions and margins\n",
    "    of error calculated\n",
    "    '''\n",
    "    \n",
    "    # Start by making a copy of in_df, so we don't destroy the original data.\n",
    "    # df is also a nice short name we can use throughout this function\n",
    "    df_copy = in_df.copy()\n",
    "    df = pd.DataFrame(columns=race_variables.values())\n",
    "\n",
    "    ### CLEAN UNUSUAL MOES\n",
    "    df_copy = df_copy.replace(-555555555.0, 0)\n",
    "\n",
    "    for c in race_variables.values():\n",
    "        if \"moe\" not in c:\n",
    "            # sum the totals\n",
    "            df.at[0, c] = df_copy[c].sum()\n",
    "        else:\n",
    "            # sum of squares the moes\n",
    "            df.at[0, c] = np.sqrt((df_copy[c]**2).sum())\n",
    "\n",
    "    df_out = combine_races(df)\n",
    "    \n",
    "    return df_out"
   ]
  },
  {
   "cell_type": "code",
   "execution_count": 53,
   "id": "587ad2b4-b8a2-4308-a5d2-c80b32508a85",
   "metadata": {},
   "outputs": [],
   "source": [
    "def get_race_precombo(year_in, place_num):\n",
    "    # do the call to the census api for a group of census tracts\n",
    "    \n",
    "    df = pd.DataFrame(\n",
    "        c.acs5.get(\n",
    "            list(race_variables.keys()),\n",
    "            {'for': place_num, 'in': 'state:06 county:013'},\n",
    "            year=year_in\n",
    "        )\n",
    "    )\n",
    "    df = df.rename(columns=race_variables)\n",
    "    df = df.drop(columns=[\"state\", \"county\", \"tract\"])\n",
    "\n",
    "    return df"
   ]
  },
  {
   "cell_type": "code",
   "execution_count": 99,
   "id": "b2fe9b10-7840-4bb2-8cc2-41bda9c34354",
   "metadata": {},
   "outputs": [],
   "source": [
    "# for 5yr ACS 2014 and 2019\n",
    "# Get ACS Table B03002 in Richmond City\n",
    "# Get ACS Table B03002 for select tracts around the BART station\n",
    "# county:013\n",
    "# city: 60620\n",
    "c_tracts = 'tract:375000, 376000, 377000, 374000, 381000'\n",
    "\n",
    "df_tracts_2014 = get_race_precombo(2014, c_tracts)\n",
    "df_tracts_2019 = get_race_precombo(2019, c_tracts)"
   ]
  },
  {
   "cell_type": "code",
   "execution_count": 110,
   "id": "d7801328-62c7-467b-afe9-7b5662799a07",
   "metadata": {},
   "outputs": [],
   "source": [
    "df_tracts_combined_2014 = combine_tracts(df_tracts_2014)\n",
    "df_tracts_out_2014 = df_tracts_combined_2014[race_columns_out]\n",
    "df_tracts_out_2014.insert(0, \"year\", 2014)\n",
    "df_tracts_combined_2019 = combine_tracts(df_tracts_2019)\n",
    "df_tracts_out_2019 = df_tracts_combined_2019[race_columns_out]\n",
    "df_tracts_out_2019.insert(0, \"year\", 2019)"
   ]
  },
  {
   "cell_type": "code",
   "execution_count": 104,
   "id": "c223d2f5-8fc4-4a3d-81e1-d10425643e65",
   "metadata": {},
   "outputs": [],
   "source": [
    "def get_city_df(year_in):\n",
    "    # City\n",
    "    df = pd.DataFrame(\n",
    "        c.acs5.get(\n",
    "            list(race_variables.keys()),\n",
    "            {'for': 'place:60620', 'in': 'state:06'},\n",
    "            year=year_in\n",
    "        )\n",
    "    )\n",
    "    df = df.rename(columns=race_variables)\n",
    "    df_out = combine_races(df)\n",
    "\n",
    "    return df_out"
   ]
  },
  {
   "cell_type": "code",
   "execution_count": 137,
   "id": "176bcf8f-ecd4-48d2-8ea1-882ba80bf145",
   "metadata": {},
   "outputs": [],
   "source": [
    "df_city_2014_out = get_city_df(2014)\n",
    "df_city_2019_out = get_city_df(2019)"
   ]
  },
  {
   "cell_type": "code",
   "execution_count": 150,
   "id": "76afac74-6d49-4d00-a415-b7acd0907dee",
   "metadata": {},
   "outputs": [
    {
     "data": {
      "text/plain": [
       "0.5285174104864416"
      ]
     },
     "execution_count": 150,
     "metadata": {},
     "output_type": "execute_result"
    }
   ],
   "source": [
    "z_2014 = z_statistic(.2758, .2706, 0.0119, 0.01097)\n",
    "z_2014"
   ]
  },
  {
   "cell_type": "code",
   "execution_count": 120,
   "id": "08309540-8fdc-4b4c-ba8b-65891d96a1e6",
   "metadata": {},
   "outputs": [],
   "source": [
    "df_city_2014_out = df_city_2014_out[race_columns_out]\n",
    "df_city_2014_out.insert(0, \"year\", 2014)\n",
    "df_city_2019_out = df_city_2019_out[race_columns_out]\n",
    "df_city_2019_out.insert(0, \"year\", 2019)"
   ]
  },
  {
   "cell_type": "code",
   "execution_count": 121,
   "id": "39cc096e-3814-46fc-aeac-73d07bd43679",
   "metadata": {},
   "outputs": [],
   "source": [
    "#export settings, for a combined csv\n",
    "df_tracts_out = pd.concat([df_tracts_out_2014, df_tracts_out_2019])\n",
    "df_city_out = pd.concat([df_city_2014_out, df_city_2019_out])\n",
    "#export to csv\n",
    "# df_out.to_csv('race_pct.csv', index=False)"
   ]
  },
  {
   "cell_type": "code",
   "execution_count": 112,
   "id": "13f282b5-1302-4331-a08c-6b74b8eebfb6",
   "metadata": {},
   "outputs": [
    {
     "data": {
      "text/html": [
       "<div>\n",
       "<style scoped>\n",
       "    .dataframe tbody tr th:only-of-type {\n",
       "        vertical-align: middle;\n",
       "    }\n",
       "\n",
       "    .dataframe tbody tr th {\n",
       "        vertical-align: top;\n",
       "    }\n",
       "\n",
       "    .dataframe thead th {\n",
       "        text-align: right;\n",
       "    }\n",
       "</style>\n",
       "<table border=\"1\" class=\"dataframe\">\n",
       "  <thead>\n",
       "    <tr style=\"text-align: right;\">\n",
       "      <th></th>\n",
       "      <th>year</th>\n",
       "      <th>pct_nh_white</th>\n",
       "      <th>pct_nh_white_moe</th>\n",
       "      <th>pct_nh_black</th>\n",
       "      <th>pct_nh_black_moe</th>\n",
       "      <th>pct_nh_asian</th>\n",
       "      <th>pct_nh_asian_moe</th>\n",
       "      <th>pct_nh_other</th>\n",
       "      <th>pct_nh_other_moe</th>\n",
       "      <th>pct_hispanic</th>\n",
       "      <th>pct_hispanic_moe</th>\n",
       "    </tr>\n",
       "  </thead>\n",
       "  <tbody>\n",
       "    <tr>\n",
       "      <th>0</th>\n",
       "      <td>2014</td>\n",
       "      <td>0.077397</td>\n",
       "      <td>0.012089</td>\n",
       "      <td>0.215779</td>\n",
       "      <td>0.023045</td>\n",
       "      <td>0.054345</td>\n",
       "      <td>0.012125</td>\n",
       "      <td>0.028126</td>\n",
       "      <td>0.010244</td>\n",
       "      <td>0.624353</td>\n",
       "      <td>0.037259</td>\n",
       "    </tr>\n",
       "    <tr>\n",
       "      <th>0</th>\n",
       "      <td>2019</td>\n",
       "      <td>0.079629</td>\n",
       "      <td>0.011785</td>\n",
       "      <td>0.189656</td>\n",
       "      <td>0.022237</td>\n",
       "      <td>0.104076</td>\n",
       "      <td>0.035202</td>\n",
       "      <td>0.032921</td>\n",
       "      <td>0.009707</td>\n",
       "      <td>0.593718</td>\n",
       "      <td>0.033877</td>\n",
       "    </tr>\n",
       "  </tbody>\n",
       "</table>\n",
       "</div>"
      ],
      "text/plain": [
       "   year pct_nh_white pct_nh_white_moe pct_nh_black pct_nh_black_moe  \\\n",
       "0  2014     0.077397         0.012089     0.215779         0.023045   \n",
       "0  2019     0.079629         0.011785     0.189656         0.022237   \n",
       "\n",
       "  pct_nh_asian pct_nh_asian_moe pct_nh_other pct_nh_other_moe pct_hispanic  \\\n",
       "0     0.054345         0.012125     0.028126         0.010244     0.624353   \n",
       "0     0.104076         0.035202     0.032921         0.009707     0.593718   \n",
       "\n",
       "  pct_hispanic_moe  \n",
       "0         0.037259  \n",
       "0         0.033877  "
      ]
     },
     "execution_count": 112,
     "metadata": {},
     "output_type": "execute_result"
    }
   ],
   "source": [
    "df_tracts_out"
   ]
  },
  {
   "cell_type": "code",
   "execution_count": 122,
   "id": "a13c99ac-ac23-4ab5-b773-deda28801bc3",
   "metadata": {},
   "outputs": [
    {
     "data": {
      "text/html": [
       "<div>\n",
       "<style scoped>\n",
       "    .dataframe tbody tr th:only-of-type {\n",
       "        vertical-align: middle;\n",
       "    }\n",
       "\n",
       "    .dataframe tbody tr th {\n",
       "        vertical-align: top;\n",
       "    }\n",
       "\n",
       "    .dataframe thead th {\n",
       "        text-align: right;\n",
       "    }\n",
       "</style>\n",
       "<table border=\"1\" class=\"dataframe\">\n",
       "  <thead>\n",
       "    <tr style=\"text-align: right;\">\n",
       "      <th></th>\n",
       "      <th>year</th>\n",
       "      <th>pct_nh_white</th>\n",
       "      <th>pct_nh_white_moe</th>\n",
       "      <th>pct_nh_black</th>\n",
       "      <th>pct_nh_black_moe</th>\n",
       "      <th>pct_nh_asian</th>\n",
       "      <th>pct_nh_asian_moe</th>\n",
       "      <th>pct_nh_other</th>\n",
       "      <th>pct_nh_other_moe</th>\n",
       "      <th>pct_hispanic</th>\n",
       "      <th>pct_hispanic_moe</th>\n",
       "    </tr>\n",
       "  </thead>\n",
       "  <tbody>\n",
       "    <tr>\n",
       "      <th>0</th>\n",
       "      <td>2014</td>\n",
       "      <td>0.175328</td>\n",
       "      <td>0.010068</td>\n",
       "      <td>0.227080</td>\n",
       "      <td>0.013064</td>\n",
       "      <td>0.139693</td>\n",
       "      <td>0.010143</td>\n",
       "      <td>0.051996</td>\n",
       "      <td>0.008764</td>\n",
       "      <td>0.405902</td>\n",
       "      <td>0.015720</td>\n",
       "    </tr>\n",
       "    <tr>\n",
       "      <th>0</th>\n",
       "      <td>2019</td>\n",
       "      <td>0.178088</td>\n",
       "      <td>0.008945</td>\n",
       "      <td>0.195342</td>\n",
       "      <td>0.011193</td>\n",
       "      <td>0.152124</td>\n",
       "      <td>0.012986</td>\n",
       "      <td>0.049780</td>\n",
       "      <td>0.007041</td>\n",
       "      <td>0.424666</td>\n",
       "      <td>0.014721</td>\n",
       "    </tr>\n",
       "  </tbody>\n",
       "</table>\n",
       "</div>"
      ],
      "text/plain": [
       "   year  pct_nh_white  pct_nh_white_moe  pct_nh_black  pct_nh_black_moe  \\\n",
       "0  2014      0.175328          0.010068      0.227080          0.013064   \n",
       "0  2019      0.178088          0.008945      0.195342          0.011193   \n",
       "\n",
       "   pct_nh_asian  pct_nh_asian_moe  pct_nh_other  pct_nh_other_moe  \\\n",
       "0      0.139693          0.010143      0.051996          0.008764   \n",
       "0      0.152124          0.012986      0.049780          0.007041   \n",
       "\n",
       "   pct_hispanic  pct_hispanic_moe  \n",
       "0      0.405902          0.015720  \n",
       "0      0.424666          0.014721  "
      ]
     },
     "execution_count": 122,
     "metadata": {},
     "output_type": "execute_result"
    }
   ],
   "source": [
    "df_city_out"
   ]
  },
  {
   "cell_type": "code",
   "execution_count": null,
   "id": "69843af8-6646-45af-9dd6-01724d8a3bb7",
   "metadata": {},
   "outputs": [],
   "source": []
  }
 ],
 "metadata": {
  "kernelspec": {
   "display_name": "Python 3 (ipykernel)",
   "language": "python",
   "name": "python3"
  },
  "language_info": {
   "codemirror_mode": {
    "name": "ipython",
    "version": 3
   },
   "file_extension": ".py",
   "mimetype": "text/x-python",
   "name": "python",
   "nbconvert_exporter": "python",
   "pygments_lexer": "ipython3",
   "version": "3.12.2"
  }
 },
 "nbformat": 4,
 "nbformat_minor": 5
}
