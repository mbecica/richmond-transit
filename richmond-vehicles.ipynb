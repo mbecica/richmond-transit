{
 "cells": [
  {
   "cell_type": "code",
   "execution_count": 1,
   "id": "15dd1720-d737-48a1-bdf1-1ee9fa724dbf",
   "metadata": {},
   "outputs": [],
   "source": [
    "import time\n",
    "import pandas as pd\n",
    "from census import Census\n",
    "import altair as alt\n",
    "import numpy as np\n",
    "\n",
    "# Census API access\n",
    "api_key = \"639f2aedf7c17b164527591258cda00b25249b4b\"\n",
    "c = Census(key=api_key)"
   ]
  },
  {
   "cell_type": "code",
   "execution_count": 5,
   "id": "6e83d195-9769-4479-8ee1-22778aec722c",
   "metadata": {},
   "outputs": [],
   "source": [
    "# Vehicles Available: Table B08141\n",
    "veh_variables = {\n",
    "    'B08141_001E': 'total',\n",
    "    'B08141_001M': 'total_moe',\n",
    "    'B08141_002E': 'no_vehicle',\n",
    "    'B08141_002M': 'no_vehicle_moe',\n",
    "    'B08141_003E': 'one_vehicle',\n",
    "    'B08141_003M': 'one_vehicle_moe',\n",
    "    'B08141_004E': 'two_vehicle',\n",
    "    'B08141_004M': 'two_vehicle_moe',\n",
    "    'B08141_005E': 'three_vehicle',\n",
    "    'B08141_005M': 'three_vehicle_moe',\n",
    "}\n",
    "veh_columns_out = [\n",
    "    'total', 'total_moe',\n",
    "    'pct_no_vehicle', 'pct_no_vehicle_moe',\n",
    "    'pct_one_vehicle', 'pct_one_vehicle_moe',\n",
    "    'pct_two_or_more', 'pct_two_or_more_moe'\n",
    "]"
   ]
  },
  {
   "cell_type": "code",
   "execution_count": 3,
   "id": "18c4129f-c086-4e61-8ab1-bb17ccce97be",
   "metadata": {},
   "outputs": [],
   "source": [
    "def combine_vehicles(in_df):\n",
    "    '''\n",
    "    Outputs: simplified vehicle breakdown with MOEs\n",
    "    '''\n",
    "    df = in_df.copy()\n",
    "    \n",
    "    ### AGGREGATE ESTIMATES\n",
    "    # Define a list of columns to combine\n",
    "    two_more_cols = ['two_vehicle', 'three_vehicle']\n",
    "    df['two_or_more'] = df[two_more_cols].sum(axis='columns')\n",
    "    # Use a list comprehension to append \"_moe\" to all strings in our list\n",
    "    two_more_moes = [f'{col}_moe' for col in two_more_cols]    \n",
    "    df['two_or_more_moe'] = (df[two_more_moes]**2).sum(axis='columns')**0.5\n",
    "    \n",
    "    for group in ['no_vehicle', 'one_vehicle', 'two_or_more']:\n",
    "        # Calculate the proportion for this group\n",
    "        df[f'pct_{group}'] = df[group] / df['total']\n",
    "    \n",
    "        # Calculate the MOE for this proportion\n",
    "        df[f'pct_{group}_moe'] = (df[f'{group}_moe']**2 - df[f'pct_{group}']**2 * df['total_moe']**2)**0.5 / df['total']\n",
    "\n",
    "        #NaN-out any too-low absolute n\n",
    "        df.loc[df['total'] < 25, f'pct_{group}'] = float('NaN')\n",
    "        df.loc[df['total'] < 25, f'pct_{group}_moe'] = float('NaN')\n",
    "        \n",
    "        #NaN-out any too-low moe\n",
    "        df[f'pct_{group}_moe_ratio'] = df[f'pct_{group}_moe']/df[f'pct_{group}']\n",
    "        df.loc[df[f'pct_{group}_moe_ratio'] > .4, f'pct_{group}'] = float('NaN')\n",
    "        df.loc[df[f'pct_{group}_moe_ratio'] > .4, f'pct_{group}_moe'] = float('NaN')\n",
    "    \n",
    "    return df"
   ]
  },
  {
   "cell_type": "code",
   "execution_count": 11,
   "id": "39caad5b-c167-4296-8523-1f552e7ab86c",
   "metadata": {},
   "outputs": [],
   "source": [
    "def combine_tracts(in_df):\n",
    "    '''\n",
    "\n",
    "    Outputs:\n",
    "    A modified version of in_df with census tracts combined\n",
    "    '''\n",
    "    \n",
    "    # Start by making a copy of in_df, so we don't destroy the original data.\n",
    "    # df is also a nice short name we can use throughout this function\n",
    "    df_copy = in_df.copy()\n",
    "    df = pd.DataFrame(columns=veh_variables.values())\n",
    "\n",
    "    ### CLEAN UNUSUAL MOES\n",
    "    df_copy = df_copy.replace(-555555555.0, 0)\n",
    "\n",
    "    for c in veh_variables.values():\n",
    "        if \"moe\" not in c:\n",
    "            # sum the totals\n",
    "            df.at[0, c] = df_copy[c].sum()\n",
    "        else:\n",
    "            # sum of squares the moes\n",
    "            df.at[0, c] = np.sqrt((df_copy[c]**2).sum())\n",
    "\n",
    "    df_out = combine_vehicles(df)\n",
    "    \n",
    "    return df_out"
   ]
  },
  {
   "cell_type": "code",
   "execution_count": 7,
   "id": "49155839-e11e-463a-a848-b38a22baf7ec",
   "metadata": {},
   "outputs": [],
   "source": [
    "def get_vehicle_precombo(year_in, place_num):\n",
    "    # for getting mode for census tracts before they are combined\n",
    "    df = pd.DataFrame(\n",
    "        c.acs5.get(\n",
    "            list(veh_variables.keys()),\n",
    "            {'for': place_num, 'in': 'state:06 county:013'},\n",
    "            year=year_in\n",
    "        )\n",
    "    )\n",
    "    df = df.rename(columns=veh_variables)\n",
    "    df = df.drop(columns=[\"state\", \"county\", \"tract\"])\n",
    "    \n",
    "    return df"
   ]
  },
  {
   "cell_type": "code",
   "execution_count": 23,
   "id": "0f868cf2-d3da-46b9-af03-d41dacf56193",
   "metadata": {},
   "outputs": [],
   "source": [
    "def get_city_df(year_in):\n",
    "    # City\n",
    "    df = pd.DataFrame(\n",
    "        c.acs5.get(\n",
    "            list(veh_variables.keys()),\n",
    "            {'for': 'place:60620', 'in': 'state:06'},\n",
    "            year=year_in\n",
    "        )\n",
    "    )\n",
    "    df = df.rename(columns=veh_variables)\n",
    "    df_out = combine_vehicles(df)\n",
    "\n",
    "    return df_out"
   ]
  },
  {
   "cell_type": "code",
   "execution_count": 19,
   "id": "579d9027-449c-46dd-a1b8-1b9f85e3b237",
   "metadata": {},
   "outputs": [],
   "source": [
    "# for 5yr ACS 2014 and 2019\n",
    "# Get ACS Table B08141 for select tracts around the BART station\n",
    "# county:013\n",
    "# city: 60620\n",
    "c_tracts = 'tract:375000, 376000, 377000, 374000, 381000'\n",
    "\n",
    "df_tracts_2014 = get_vehicle_precombo(2014, c_tracts)\n",
    "df_tracts_2019 = get_vehicle_precombo(2019, c_tracts)"
   ]
  },
  {
   "cell_type": "code",
   "execution_count": 20,
   "id": "b24d134b-c911-4e15-a86c-d386f8e33bab",
   "metadata": {},
   "outputs": [],
   "source": [
    "df_comb_2014 = combine_tracts(df_tracts_2014)\n",
    "df_tracts_out_2014 = df_comb_2014[veh_columns_out]\n",
    "df_tracts_out_2014.insert(0, \"year\", 2014)\n",
    "df_comb_2019 = combine_tracts(df_tracts_2019)\n",
    "df_tracts_out_2019 = df_comb_2019[veh_columns_out]\n",
    "df_tracts_out_2019.insert(0, \"year\", 2019)"
   ]
  },
  {
   "cell_type": "code",
   "execution_count": 24,
   "id": "d9c51db3-ea16-43f3-8dd3-53d538996273",
   "metadata": {},
   "outputs": [],
   "source": [
    "# for 5yr ACS 2014 and 2019\n",
    "# Get ACS Table B08141 in Richmond City\n",
    "df_city_2014 = get_city_df(2014)\n",
    "df_city_2019 = get_city_df(2019)"
   ]
  },
  {
   "cell_type": "code",
   "execution_count": 25,
   "id": "b7d3efc8-8939-4b67-8323-83070df1f823",
   "metadata": {},
   "outputs": [],
   "source": [
    "df_city_out_2014 = df_city_2014[veh_columns_out]\n",
    "df_city_out_2014.insert(0, \"year\", 2014)\n",
    "df_city_out_2019 = df_city_2019[veh_columns_out]\n",
    "df_city_out_2019.insert(0, \"year\", 2019)"
   ]
  },
  {
   "cell_type": "code",
   "execution_count": 26,
   "id": "50cf8198-602d-4927-914d-19ac750de288",
   "metadata": {},
   "outputs": [],
   "source": [
    "#export settings, for a combined csv\n",
    "df_tracts_out = pd.concat([df_tracts_out_2014, df_tracts_out_2019])\n",
    "df_city_out = pd.concat([df_city_out_2014, df_city_out_2019])"
   ]
  },
  {
   "cell_type": "code",
   "execution_count": 27,
   "id": "e39734c4-ca17-4995-9dee-c187ce2c0cee",
   "metadata": {},
   "outputs": [
    {
     "data": {
      "text/html": [
       "<div>\n",
       "<style scoped>\n",
       "    .dataframe tbody tr th:only-of-type {\n",
       "        vertical-align: middle;\n",
       "    }\n",
       "\n",
       "    .dataframe tbody tr th {\n",
       "        vertical-align: top;\n",
       "    }\n",
       "\n",
       "    .dataframe thead th {\n",
       "        text-align: right;\n",
       "    }\n",
       "</style>\n",
       "<table border=\"1\" class=\"dataframe\">\n",
       "  <thead>\n",
       "    <tr style=\"text-align: right;\">\n",
       "      <th></th>\n",
       "      <th>year</th>\n",
       "      <th>total</th>\n",
       "      <th>total_moe</th>\n",
       "      <th>pct_no_vehicle</th>\n",
       "      <th>pct_no_vehicle_moe</th>\n",
       "      <th>pct_one_vehicle</th>\n",
       "      <th>pct_one_vehicle_moe</th>\n",
       "      <th>pct_two_or_more</th>\n",
       "      <th>pct_two_or_more_moe</th>\n",
       "    </tr>\n",
       "  </thead>\n",
       "  <tbody>\n",
       "    <tr>\n",
       "      <th>0</th>\n",
       "      <td>2014</td>\n",
       "      <td>46973.0</td>\n",
       "      <td>1272.0</td>\n",
       "      <td>0.04196</td>\n",
       "      <td>0.008740</td>\n",
       "      <td>0.244821</td>\n",
       "      <td>0.018180</td>\n",
       "      <td>0.713218</td>\n",
       "      <td>0.032811</td>\n",
       "    </tr>\n",
       "    <tr>\n",
       "      <th>0</th>\n",
       "      <td>2019</td>\n",
       "      <td>52366.0</td>\n",
       "      <td>1212.0</td>\n",
       "      <td>0.03340</td>\n",
       "      <td>0.009114</td>\n",
       "      <td>0.237807</td>\n",
       "      <td>0.018146</td>\n",
       "      <td>0.728793</td>\n",
       "      <td>0.035268</td>\n",
       "    </tr>\n",
       "  </tbody>\n",
       "</table>\n",
       "</div>"
      ],
      "text/plain": [
       "   year    total  total_moe  pct_no_vehicle  pct_no_vehicle_moe  \\\n",
       "0  2014  46973.0     1272.0         0.04196            0.008740   \n",
       "0  2019  52366.0     1212.0         0.03340            0.009114   \n",
       "\n",
       "   pct_one_vehicle  pct_one_vehicle_moe  pct_two_or_more  pct_two_or_more_moe  \n",
       "0         0.244821             0.018180         0.713218             0.032811  \n",
       "0         0.237807             0.018146         0.728793             0.035268  "
      ]
     },
     "execution_count": 27,
     "metadata": {},
     "output_type": "execute_result"
    }
   ],
   "source": [
    "df_city_out"
   ]
  },
  {
   "cell_type": "code",
   "execution_count": null,
   "id": "ec90126a-f2d4-49ef-b0c1-df1e56dd6e7e",
   "metadata": {},
   "outputs": [],
   "source": []
  }
 ],
 "metadata": {
  "kernelspec": {
   "display_name": "Python 3 (ipykernel)",
   "language": "python",
   "name": "python3"
  },
  "language_info": {
   "codemirror_mode": {
    "name": "ipython",
    "version": 3
   },
   "file_extension": ".py",
   "mimetype": "text/x-python",
   "name": "python",
   "nbconvert_exporter": "python",
   "pygments_lexer": "ipython3",
   "version": "3.12.2"
  }
 },
 "nbformat": 4,
 "nbformat_minor": 5
}
