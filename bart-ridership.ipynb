{
 "cells": [
  {
   "cell_type": "code",
   "execution_count": 19,
   "id": "c5ccd8b9-89fe-440a-ab16-e11f02beb375",
   "metadata": {
    "scrolled": true
   },
   "outputs": [],
   "source": [
    "import pandas as pd\n",
    "import numpy as np\n",
    "import altair as alt\n",
    "\n",
    "byears = ['2001','2002','2003','2004','2005','2006','2007','2008','2009','2010','2011','2012','2013','2014','2015','2016','2017','2018','2019']\n",
    "bmonths = ['January', 'February', 'March', 'April', 'May', 'June', 'July', 'August', 'September', 'October', 'November', 'December']\n",
    "avgdata = []\n",
    "\n",
    "for y in byears:\n",
    "    rm_data = []\n",
    "    sw_data = []\n",
    "    for m in bmonths:\n",
    "        path = 'data-downloads/BART-ridership/ridership_' + y + '/' + m + ' ' + y + ' Entry_Exit Matrices.xls'\n",
    "        if y in ['2008','2009']:\n",
    "            path = 'data-downloads/BART-ridership/ridership_' + y + '/Ridership_' + m + ' ' + y + '.xls'\n",
    "        if y in ['2010','2011','2012','2013','2014','2015','2016','2017']:\n",
    "            path = 'data-downloads/BART-ridership/ridership_' + y + '/Ridership_' + m + y + '.xlsx'\n",
    "        if y in ['2018','2019']:\n",
    "            path = 'data-downloads/BART-ridership/ridership_' + y + '/Ridership_' + y + m + '.xlsx'\n",
    "        df_excel = pd.read_excel(path, header=1,index_col=0)\n",
    "        rm_data.append(df_excel.loc['Entries', 'RM'])\n",
    "        sw_data.append(df_excel.loc['Entries', 'Exits'])\n",
    "    \n",
    "    rm_entries = sum(rm_data)/len(rm_data)\n",
    "    sw_entries = sum(sw_data)/len(sw_data)\n",
    "    #calculate proportion\n",
    "    perc_entries = rm_entries/sw_entries\n",
    "    avgdata.append({\n",
    "        \"Year\":y,\n",
    "        \"Percent of System Entries\":perc_entries\n",
    "    })\n",
    "    \n",
    "\n",
    "df = pd.DataFrame(data=avgdata)"
   ]
  },
  {
   "cell_type": "code",
   "execution_count": 20,
   "id": "e7c6f52f-5c03-46aa-84b9-e5f6188a0d29",
   "metadata": {},
   "outputs": [
    {
     "data": {
      "text/html": [
       "<div>\n",
       "<style scoped>\n",
       "    .dataframe tbody tr th:only-of-type {\n",
       "        vertical-align: middle;\n",
       "    }\n",
       "\n",
       "    .dataframe tbody tr th {\n",
       "        vertical-align: top;\n",
       "    }\n",
       "\n",
       "    .dataframe thead th {\n",
       "        text-align: right;\n",
       "    }\n",
       "</style>\n",
       "<table border=\"1\" class=\"dataframe\">\n",
       "  <thead>\n",
       "    <tr style=\"text-align: right;\">\n",
       "      <th></th>\n",
       "      <th>Year</th>\n",
       "      <th>Percent of System Entries</th>\n",
       "    </tr>\n",
       "  </thead>\n",
       "  <tbody>\n",
       "    <tr>\n",
       "      <th>0</th>\n",
       "      <td>2001</td>\n",
       "      <td>0.013650</td>\n",
       "    </tr>\n",
       "    <tr>\n",
       "      <th>1</th>\n",
       "      <td>2002</td>\n",
       "      <td>0.013754</td>\n",
       "    </tr>\n",
       "    <tr>\n",
       "      <th>2</th>\n",
       "      <td>2003</td>\n",
       "      <td>0.011605</td>\n",
       "    </tr>\n",
       "    <tr>\n",
       "      <th>3</th>\n",
       "      <td>2004</td>\n",
       "      <td>0.010746</td>\n",
       "    </tr>\n",
       "    <tr>\n",
       "      <th>4</th>\n",
       "      <td>2005</td>\n",
       "      <td>0.010541</td>\n",
       "    </tr>\n",
       "    <tr>\n",
       "      <th>5</th>\n",
       "      <td>2006</td>\n",
       "      <td>0.010015</td>\n",
       "    </tr>\n",
       "    <tr>\n",
       "      <th>6</th>\n",
       "      <td>2007</td>\n",
       "      <td>0.009721</td>\n",
       "    </tr>\n",
       "    <tr>\n",
       "      <th>7</th>\n",
       "      <td>2008</td>\n",
       "      <td>0.009868</td>\n",
       "    </tr>\n",
       "    <tr>\n",
       "      <th>8</th>\n",
       "      <td>2009</td>\n",
       "      <td>0.009630</td>\n",
       "    </tr>\n",
       "    <tr>\n",
       "      <th>9</th>\n",
       "      <td>2010</td>\n",
       "      <td>0.009772</td>\n",
       "    </tr>\n",
       "    <tr>\n",
       "      <th>10</th>\n",
       "      <td>2011</td>\n",
       "      <td>0.009947</td>\n",
       "    </tr>\n",
       "    <tr>\n",
       "      <th>11</th>\n",
       "      <td>2012</td>\n",
       "      <td>0.010031</td>\n",
       "    </tr>\n",
       "    <tr>\n",
       "      <th>12</th>\n",
       "      <td>2013</td>\n",
       "      <td>0.010019</td>\n",
       "    </tr>\n",
       "    <tr>\n",
       "      <th>13</th>\n",
       "      <td>2014</td>\n",
       "      <td>0.010433</td>\n",
       "    </tr>\n",
       "    <tr>\n",
       "      <th>14</th>\n",
       "      <td>2015</td>\n",
       "      <td>0.010684</td>\n",
       "    </tr>\n",
       "    <tr>\n",
       "      <th>15</th>\n",
       "      <td>2016</td>\n",
       "      <td>0.010456</td>\n",
       "    </tr>\n",
       "    <tr>\n",
       "      <th>16</th>\n",
       "      <td>2017</td>\n",
       "      <td>0.010472</td>\n",
       "    </tr>\n",
       "    <tr>\n",
       "      <th>17</th>\n",
       "      <td>2018</td>\n",
       "      <td>0.010494</td>\n",
       "    </tr>\n",
       "    <tr>\n",
       "      <th>18</th>\n",
       "      <td>2019</td>\n",
       "      <td>0.010891</td>\n",
       "    </tr>\n",
       "  </tbody>\n",
       "</table>\n",
       "</div>"
      ],
      "text/plain": [
       "    Year  Percent of System Entries\n",
       "0   2001                   0.013650\n",
       "1   2002                   0.013754\n",
       "2   2003                   0.011605\n",
       "3   2004                   0.010746\n",
       "4   2005                   0.010541\n",
       "5   2006                   0.010015\n",
       "6   2007                   0.009721\n",
       "7   2008                   0.009868\n",
       "8   2009                   0.009630\n",
       "9   2010                   0.009772\n",
       "10  2011                   0.009947\n",
       "11  2012                   0.010031\n",
       "12  2013                   0.010019\n",
       "13  2014                   0.010433\n",
       "14  2015                   0.010684\n",
       "15  2016                   0.010456\n",
       "16  2017                   0.010472\n",
       "17  2018                   0.010494\n",
       "18  2019                   0.010891"
      ]
     },
     "execution_count": 20,
     "metadata": {},
     "output_type": "execute_result"
    }
   ],
   "source": [
    "df"
   ]
  },
  {
   "cell_type": "code",
   "execution_count": 21,
   "id": "9a79bdae-7d68-4403-a10e-57af74ea28b1",
   "metadata": {},
   "outputs": [
    {
     "data": {
      "text/html": [
       "\n",
       "<style>\n",
       "  #altair-viz-4a15732d643d4cc5a4930e50cf18e3ab.vega-embed {\n",
       "    width: 100%;\n",
       "    display: flex;\n",
       "  }\n",
       "\n",
       "  #altair-viz-4a15732d643d4cc5a4930e50cf18e3ab.vega-embed details,\n",
       "  #altair-viz-4a15732d643d4cc5a4930e50cf18e3ab.vega-embed details summary {\n",
       "    position: relative;\n",
       "  }\n",
       "</style>\n",
       "<div id=\"altair-viz-4a15732d643d4cc5a4930e50cf18e3ab\"></div>\n",
       "<script type=\"text/javascript\">\n",
       "  var VEGA_DEBUG = (typeof VEGA_DEBUG == \"undefined\") ? {} : VEGA_DEBUG;\n",
       "  (function(spec, embedOpt){\n",
       "    let outputDiv = document.currentScript.previousElementSibling;\n",
       "    if (outputDiv.id !== \"altair-viz-4a15732d643d4cc5a4930e50cf18e3ab\") {\n",
       "      outputDiv = document.getElementById(\"altair-viz-4a15732d643d4cc5a4930e50cf18e3ab\");\n",
       "    }\n",
       "    const paths = {\n",
       "      \"vega\": \"https://cdn.jsdelivr.net/npm/vega@5?noext\",\n",
       "      \"vega-lib\": \"https://cdn.jsdelivr.net/npm/vega-lib?noext\",\n",
       "      \"vega-lite\": \"https://cdn.jsdelivr.net/npm/vega-lite@5.20.1?noext\",\n",
       "      \"vega-embed\": \"https://cdn.jsdelivr.net/npm/vega-embed@6?noext\",\n",
       "    };\n",
       "\n",
       "    function maybeLoadScript(lib, version) {\n",
       "      var key = `${lib.replace(\"-\", \"\")}_version`;\n",
       "      return (VEGA_DEBUG[key] == version) ?\n",
       "        Promise.resolve(paths[lib]) :\n",
       "        new Promise(function(resolve, reject) {\n",
       "          var s = document.createElement('script');\n",
       "          document.getElementsByTagName(\"head\")[0].appendChild(s);\n",
       "          s.async = true;\n",
       "          s.onload = () => {\n",
       "            VEGA_DEBUG[key] = version;\n",
       "            return resolve(paths[lib]);\n",
       "          };\n",
       "          s.onerror = () => reject(`Error loading script: ${paths[lib]}`);\n",
       "          s.src = paths[lib];\n",
       "        });\n",
       "    }\n",
       "\n",
       "    function showError(err) {\n",
       "      outputDiv.innerHTML = `<div class=\"error\" style=\"color:red;\">${err}</div>`;\n",
       "      throw err;\n",
       "    }\n",
       "\n",
       "    function displayChart(vegaEmbed) {\n",
       "      vegaEmbed(outputDiv, spec, embedOpt)\n",
       "        .catch(err => showError(`Javascript Error: ${err.message}<br>This usually means there's a typo in your chart specification. See the javascript console for the full traceback.`));\n",
       "    }\n",
       "\n",
       "    if(typeof define === \"function\" && define.amd) {\n",
       "      requirejs.config({paths});\n",
       "      require([\"vega-embed\"], displayChart, err => showError(`Error loading script: ${err.message}`));\n",
       "    } else {\n",
       "      maybeLoadScript(\"vega\", \"5\")\n",
       "        .then(() => maybeLoadScript(\"vega-lite\", \"5.20.1\"))\n",
       "        .then(() => maybeLoadScript(\"vega-embed\", \"6\"))\n",
       "        .catch(showError)\n",
       "        .then(() => displayChart(vegaEmbed));\n",
       "    }\n",
       "  })({\"config\": {\"view\": {\"continuousWidth\": 300, \"continuousHeight\": 300}, \"axis\": {\"grid\": true}}, \"data\": {\"name\": \"data-2e83261ff87aa967e95c0b280e45662e\"}, \"mark\": {\"type\": \"line\"}, \"encoding\": {\"x\": {\"field\": \"Year\", \"type\": \"nominal\"}, \"y\": {\"axis\": {\"format\": \"%\"}, \"field\": \"Percent of System Entries\", \"scale\": {\"domain\": [0.006, 0.016]}, \"type\": \"quantitative\"}}, \"$schema\": \"https://vega.github.io/schema/vega-lite/v5.20.1.json\", \"datasets\": {\"data-2e83261ff87aa967e95c0b280e45662e\": [{\"Year\": \"2001\", \"Percent of System Entries\": 0.013650175915330298}, {\"Year\": \"2002\", \"Percent of System Entries\": 0.013753567557636983}, {\"Year\": \"2003\", \"Percent of System Entries\": 0.011605214922405278}, {\"Year\": \"2004\", \"Percent of System Entries\": 0.010745694689641417}, {\"Year\": \"2005\", \"Percent of System Entries\": 0.01054109071751644}, {\"Year\": \"2006\", \"Percent of System Entries\": 0.01001454501317519}, {\"Year\": \"2007\", \"Percent of System Entries\": 0.009721175443021748}, {\"Year\": \"2008\", \"Percent of System Entries\": 0.009867995245588958}, {\"Year\": \"2009\", \"Percent of System Entries\": 0.009629807091489228}, {\"Year\": \"2010\", \"Percent of System Entries\": 0.009771901500889293}, {\"Year\": \"2011\", \"Percent of System Entries\": 0.009946749001806523}, {\"Year\": \"2012\", \"Percent of System Entries\": 0.010030582732931795}, {\"Year\": \"2013\", \"Percent of System Entries\": 0.010019159754501324}, {\"Year\": \"2014\", \"Percent of System Entries\": 0.010432827265126761}, {\"Year\": \"2015\", \"Percent of System Entries\": 0.0106837948374177}, {\"Year\": \"2016\", \"Percent of System Entries\": 0.010455638449466153}, {\"Year\": \"2017\", \"Percent of System Entries\": 0.01047229711268961}, {\"Year\": \"2018\", \"Percent of System Entries\": 0.01049438087529101}, {\"Year\": \"2019\", \"Percent of System Entries\": 0.010891288404895462}]}}, {\"mode\": \"vega-lite\"});\n",
       "</script>"
      ],
      "text/plain": [
       "alt.Chart(...)"
      ]
     },
     "execution_count": 21,
     "metadata": {},
     "output_type": "execute_result"
    }
   ],
   "source": [
    "alt.Chart(df).mark_line().encode(\n",
    "    x='Year',\n",
    "    y=alt.Y('Percent of System Entries').scale(domain=(.006,.016)).axis(format='%')\n",
    ").configure_axis(\n",
    "    grid=True\n",
    ")\n"
   ]
  },
  {
   "cell_type": "code",
   "execution_count": 14,
   "id": "2cce0624-058f-4668-838d-f32e3e2a468f",
   "metadata": {},
   "outputs": [
    {
     "data": {
      "text/plain": [
       "{'2002': 4150.260164154085,\n",
       " '2003': 3471.2568841925363,\n",
       " '2004': 3314.5009981310322,\n",
       " '2005': 3337.8717708715135}"
      ]
     },
     "execution_count": 14,
     "metadata": {},
     "output_type": "execute_result"
    }
   ],
   "source": [
    "byears_"
   ]
  },
  {
   "cell_type": "code",
   "execution_count": 15,
   "id": "b3037d22-0bd6-4f84-8d34-64af5e74f712",
   "metadata": {},
   "outputs": [
    {
     "data": {
      "text/plain": [
       "{'2002': 301758.80888806615,\n",
       " '2003': 299111.81373219145,\n",
       " '2004': 308449.2062971163,\n",
       " '2005': 316653.3578280352}"
      ]
     },
     "execution_count": 15,
     "metadata": {},
     "output_type": "execute_result"
    }
   ],
   "source": [
    "byears_sw"
   ]
  },
  {
   "cell_type": "code",
   "execution_count": 18,
   "id": "da9c540f-bdbc-45ea-8078-c4be6d0e0ed5",
   "metadata": {},
   "outputs": [
    {
     "data": {
      "text/plain": [
       "[[{'Year': '2002',\n",
       "   'Site': 'Richmond',\n",
       "   'Average Weekday Entries': 4150.260164154085},\n",
       "  {'Year': '2002',\n",
       "   'Site': 'Systemwide',\n",
       "   'Average Weekday Entries': 301758.80888806615}],\n",
       " [{'Year': '2003',\n",
       "   'Site': 'Richmond',\n",
       "   'Average Weekday Entries': 3471.2568841925363},\n",
       "  {'Year': '2003',\n",
       "   'Site': 'Systemwide',\n",
       "   'Average Weekday Entries': 299111.81373219145}],\n",
       " [{'Year': '2004',\n",
       "   'Site': 'Richmond',\n",
       "   'Average Weekday Entries': 3314.5009981310322},\n",
       "  {'Year': '2004',\n",
       "   'Site': 'Systemwide',\n",
       "   'Average Weekday Entries': 308449.2062971163}],\n",
       " [{'Year': '2005',\n",
       "   'Site': 'Richmond',\n",
       "   'Average Weekday Entries': 3337.8717708715135},\n",
       "  {'Year': '2005',\n",
       "   'Site': 'Systemwide',\n",
       "   'Average Weekday Entries': 316653.3578280352}]]"
      ]
     },
     "execution_count": 18,
     "metadata": {},
     "output_type": "execute_result"
    }
   ],
   "source": [
    "data"
   ]
  },
  {
   "cell_type": "code",
   "execution_count": null,
   "id": "d84e0c9a-f1a0-4300-9903-4bfde9ebc80d",
   "metadata": {},
   "outputs": [],
   "source": []
  },
  {
   "cell_type": "code",
   "execution_count": null,
   "id": "8d7f281d-1b3b-4254-bb43-cc99bbb7dc28",
   "metadata": {},
   "outputs": [],
   "source": []
  }
 ],
 "metadata": {
  "kernelspec": {
   "display_name": "Python 3 (ipykernel)",
   "language": "python",
   "name": "python3"
  },
  "language_info": {
   "codemirror_mode": {
    "name": "ipython",
    "version": 3
   },
   "file_extension": ".py",
   "mimetype": "text/x-python",
   "name": "python",
   "nbconvert_exporter": "python",
   "pygments_lexer": "ipython3",
   "version": "3.12.2"
  }
 },
 "nbformat": 4,
 "nbformat_minor": 5
}
