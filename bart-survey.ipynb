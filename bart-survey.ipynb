{
 "cells": [
  {
   "cell_type": "code",
   "execution_count": 2,
   "id": "0a85fc68-9959-4668-8bc1-9717fc1d5bb6",
   "metadata": {},
   "outputs": [],
   "source": [
    "import pandas as pd\n",
    "import numpy as np\n",
    "import altair as alt\n",
    "\n",
    "mode = pd.read_csv('data-downloads/BART-Mode.csv')"
   ]
  },
  {
   "cell_type": "code",
   "execution_count": 15,
   "id": "05317482-e9c5-44b1-9ecb-9a161dc727b8",
   "metadata": {},
   "outputs": [],
   "source": [
    "dt_98 = mode.loc[mode[\"Year\"] == 1998]"
   ]
  },
  {
   "cell_type": "code",
   "execution_count": 29,
   "id": "36583cbc-ada0-4f11-930b-ef01f03bfea9",
   "metadata": {},
   "outputs": [
    {
     "data": {
      "text/html": [
       "\n",
       "<style>\n",
       "  #altair-viz-445d7c34ceae412eb59e7370bebae2fb.vega-embed {\n",
       "    width: 100%;\n",
       "    display: flex;\n",
       "  }\n",
       "\n",
       "  #altair-viz-445d7c34ceae412eb59e7370bebae2fb.vega-embed details,\n",
       "  #altair-viz-445d7c34ceae412eb59e7370bebae2fb.vega-embed details summary {\n",
       "    position: relative;\n",
       "  }\n",
       "</style>\n",
       "<div id=\"altair-viz-445d7c34ceae412eb59e7370bebae2fb\"></div>\n",
       "<script type=\"text/javascript\">\n",
       "  var VEGA_DEBUG = (typeof VEGA_DEBUG == \"undefined\") ? {} : VEGA_DEBUG;\n",
       "  (function(spec, embedOpt){\n",
       "    let outputDiv = document.currentScript.previousElementSibling;\n",
       "    if (outputDiv.id !== \"altair-viz-445d7c34ceae412eb59e7370bebae2fb\") {\n",
       "      outputDiv = document.getElementById(\"altair-viz-445d7c34ceae412eb59e7370bebae2fb\");\n",
       "    }\n",
       "    const paths = {\n",
       "      \"vega\": \"https://cdn.jsdelivr.net/npm/vega@5?noext\",\n",
       "      \"vega-lib\": \"https://cdn.jsdelivr.net/npm/vega-lib?noext\",\n",
       "      \"vega-lite\": \"https://cdn.jsdelivr.net/npm/vega-lite@5.20.1?noext\",\n",
       "      \"vega-embed\": \"https://cdn.jsdelivr.net/npm/vega-embed@6?noext\",\n",
       "    };\n",
       "\n",
       "    function maybeLoadScript(lib, version) {\n",
       "      var key = `${lib.replace(\"-\", \"\")}_version`;\n",
       "      return (VEGA_DEBUG[key] == version) ?\n",
       "        Promise.resolve(paths[lib]) :\n",
       "        new Promise(function(resolve, reject) {\n",
       "          var s = document.createElement('script');\n",
       "          document.getElementsByTagName(\"head\")[0].appendChild(s);\n",
       "          s.async = true;\n",
       "          s.onload = () => {\n",
       "            VEGA_DEBUG[key] = version;\n",
       "            return resolve(paths[lib]);\n",
       "          };\n",
       "          s.onerror = () => reject(`Error loading script: ${paths[lib]}`);\n",
       "          s.src = paths[lib];\n",
       "        });\n",
       "    }\n",
       "\n",
       "    function showError(err) {\n",
       "      outputDiv.innerHTML = `<div class=\"error\" style=\"color:red;\">${err}</div>`;\n",
       "      throw err;\n",
       "    }\n",
       "\n",
       "    function displayChart(vegaEmbed) {\n",
       "      vegaEmbed(outputDiv, spec, embedOpt)\n",
       "        .catch(err => showError(`Javascript Error: ${err.message}<br>This usually means there's a typo in your chart specification. See the javascript console for the full traceback.`));\n",
       "    }\n",
       "\n",
       "    if(typeof define === \"function\" && define.amd) {\n",
       "      requirejs.config({paths});\n",
       "      require([\"vega-embed\"], displayChart, err => showError(`Error loading script: ${err.message}`));\n",
       "    } else {\n",
       "      maybeLoadScript(\"vega\", \"5\")\n",
       "        .then(() => maybeLoadScript(\"vega-lite\", \"5.20.1\"))\n",
       "        .then(() => maybeLoadScript(\"vega-embed\", \"6\"))\n",
       "        .catch(showError)\n",
       "        .then(() => displayChart(vegaEmbed));\n",
       "    }\n",
       "  })({\"config\": {\"view\": {\"continuousWidth\": 300, \"continuousHeight\": 300}}, \"data\": {\"name\": \"data-5fd92f6a085d9378ae7afbbdbecb4ea0\"}, \"mark\": {\"type\": \"bar\"}, \"encoding\": {\"color\": {\"field\": \"Station\", \"type\": \"nominal\"}, \"column\": {\"field\": \"Mode\", \"type\": \"nominal\"}, \"x\": {\"field\": \"Station\", \"type\": \"nominal\"}, \"y\": {\"axis\": {\"format\": \"%\"}, \"field\": \"Percentage\", \"scale\": {\"domain\": [0, 1]}, \"type\": \"quantitative\"}}, \"width\": 80, \"$schema\": \"https://vega.github.io/schema/vega-lite/v5.20.1.json\", \"datasets\": {\"data-5fd92f6a085d9378ae7afbbdbecb4ea0\": [{\"Year\": 1998, \"Station\": \"Richmond\", \"Mode\": \"Walked\", \"Percentage\": 0.19}, {\"Year\": 1998, \"Station\": \"Richmond\", \"Mode\": \"Bicycle\", \"Percentage\": 0.02}, {\"Year\": 1998, \"Station\": \"Richmond\", \"Mode\": \"Bus/Transit\", \"Percentage\": 0.19}, {\"Year\": 1998, \"Station\": \"Richmond\", \"Mode\": \"Drive Alone/carpool\", \"Percentage\": 0.45}, {\"Year\": 1998, \"Station\": \"Richmond\", \"Mode\": \"Dropped Off\", \"Percentage\": 0.15}, {\"Year\": 1998, \"Station\": \"Stationwide\", \"Mode\": \"Walked\", \"Percentage\": 0.26}, {\"Year\": 1998, \"Station\": \"Stationwide\", \"Mode\": \"Bicycle\", \"Percentage\": 0.03}, {\"Year\": 1998, \"Station\": \"Stationwide\", \"Mode\": \"Bus/Transit\", \"Percentage\": 0.23}, {\"Year\": 1998, \"Station\": \"Stationwide\", \"Mode\": \"Drive Alone/carpool\", \"Percentage\": 0.39}, {\"Year\": 1998, \"Station\": \"Stationwide\", \"Mode\": \"Dropped Off\", \"Percentage\": 0.09}]}}, {\"mode\": \"vega-lite\"});\n",
       "</script>"
      ],
      "text/plain": [
       "alt.Chart(...)"
      ]
     },
     "execution_count": 29,
     "metadata": {},
     "output_type": "execute_result"
    }
   ],
   "source": [
    "alt.Chart(dt_98).mark_bar().encode(\n",
    "    x='Station:N',\n",
    "    y=alt.Y('Percentage:Q').scale(domain=(0,1)).axis(format='%'),\n",
    "    color='Station:N',\n",
    "    column='Mode:N'\n",
    ").properties(width=80)"
   ]
  },
  {
   "cell_type": "code",
   "execution_count": null,
   "id": "3da677d0-c7e5-4eb3-9639-f5258aaad80b",
   "metadata": {},
   "outputs": [],
   "source": []
  }
 ],
 "metadata": {
  "kernelspec": {
   "display_name": "Python 3 (ipykernel)",
   "language": "python",
   "name": "python3"
  },
  "language_info": {
   "codemirror_mode": {
    "name": "ipython",
    "version": 3
   },
   "file_extension": ".py",
   "mimetype": "text/x-python",
   "name": "python",
   "nbconvert_exporter": "python",
   "pygments_lexer": "ipython3",
   "version": "3.12.2"
  }
 },
 "nbformat": 4,
 "nbformat_minor": 5
}
